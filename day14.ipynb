{
 "cells": [
  {
   "cell_type": "code",
   "execution_count": 20,
   "metadata": {},
   "outputs": [],
   "source": [
    "from utils import read_lines\n",
    "from collections import defaultdict\n",
    "import re\n",
    "\n",
    "regex = re.compile(r'mem\\[(\\d+)] = (\\d+)')\n",
    "\n",
    "def mask_value(mask, value):\n",
    "    ans = 0\n",
    "    for i in range(36):\n",
    "        d = (value >> i) & 1\n",
    "        if mask[35-i] == '1':\n",
    "            ans |= (1 << i)\n",
    "        elif mask[35-i] == 'X' and d == 1:\n",
    "            ans |= (1 << i)\n",
    "    return ans\n",
    "\n",
    "def mask_addr(mask, addr):\n",
    "    addresses = [0]\n",
    "    for i in range(36):\n",
    "        d = (addr >> i) & 1\n",
    "        if mask[35-i] == '1':\n",
    "            for j in range(len(addresses)):\n",
    "                addresses[j] |= (1 << i)\n",
    "        elif mask[35-i] == '0' and d == 1:\n",
    "            for j in range(len(addresses)):\n",
    "                addresses[j] |= (1 << i)\n",
    "        elif mask[35-i] == 'X':\n",
    "            added = []\n",
    "            for a in addresses:\n",
    "                ma = a | (1 << i)\n",
    "                added.append(ma)\n",
    "            addresses += added\n",
    "    return addresses\n",
    "\n",
    "def part1(input_file):\n",
    "    updated = defaultdict(int)\n",
    "    mask = 'X'*36\n",
    "    for line in read_lines(input_file):\n",
    "        if line.startswith('mask'):\n",
    "            mask = line.split(' = ')[1]\n",
    "        else:\n",
    "            m = re.match(regex, line)\n",
    "            addr = int(m.group(1))\n",
    "            value = int(m.group(2))\n",
    "            updated[addr] = mask_value(mask, value)\n",
    "    return sum(updated.values())\n",
    "\n",
    "def part2(input_file):\n",
    "    updated = defaultdict(int)\n",
    "    mask = 'X'*36\n",
    "    for line in read_lines(input_file):\n",
    "        if line.startswith('mask'):\n",
    "            mask = line.split(' = ')[1]\n",
    "        else:\n",
    "            m = re.match(regex, line)\n",
    "            addr = int(m.group(1))\n",
    "            value = int(m.group(2))\n",
    "            for masked_addr in mask_addr(mask, addr):\n",
    "                updated[masked_addr] = value\n",
    "    return sum(updated.values())"
   ]
  },
  {
   "cell_type": "code",
   "execution_count": 2,
   "metadata": {},
   "outputs": [
    {
     "data": {
      "text/plain": [
       "165"
      ]
     },
     "execution_count": 2,
     "metadata": {},
     "output_type": "execute_result"
    }
   ],
   "source": [
    "part1('inputs/day14_test.txt')"
   ]
  },
  {
   "cell_type": "code",
   "execution_count": 3,
   "metadata": {},
   "outputs": [
    {
     "data": {
      "text/plain": [
       "13556564111697"
      ]
     },
     "execution_count": 3,
     "metadata": {},
     "output_type": "execute_result"
    }
   ],
   "source": [
    "part1('inputs/day14.txt')"
   ]
  },
  {
   "cell_type": "code",
   "execution_count": 21,
   "metadata": {},
   "outputs": [
    {
     "data": {
      "text/plain": [
       "208"
      ]
     },
     "execution_count": 21,
     "metadata": {},
     "output_type": "execute_result"
    }
   ],
   "source": [
    "part2('inputs/day14_test2.txt')"
   ]
  },
  {
   "cell_type": "code",
   "execution_count": 22,
   "metadata": {},
   "outputs": [
    {
     "data": {
      "text/plain": [
       "4173715962894"
      ]
     },
     "execution_count": 22,
     "metadata": {},
     "output_type": "execute_result"
    }
   ],
   "source": [
    "part2('inputs/day14.txt')"
   ]
  },
  {
   "cell_type": "code",
   "execution_count": null,
   "metadata": {},
   "outputs": [],
   "source": []
  }
 ],
 "metadata": {
  "kernelspec": {
   "display_name": "Test",
   "language": "python",
   "name": "python3"
  },
  "language_info": {
   "codemirror_mode": {
    "name": "ipython",
    "version": 3
   },
   "file_extension": ".py",
   "mimetype": "text/x-python",
   "name": "python",
   "nbconvert_exporter": "python",
   "pygments_lexer": "ipython3",
   "version": "3.12.2"
  }
 },
 "nbformat": 4,
 "nbformat_minor": 2
}
