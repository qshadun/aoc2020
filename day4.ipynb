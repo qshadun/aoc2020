{
 "cells": [
  {
   "cell_type": "code",
   "execution_count": 41,
   "metadata": {},
   "outputs": [],
   "source": [
    "from utils import read_lines\n",
    "import re\n",
    "color_regex = re.compile(r'^#[0-9a-f]{6}$')\n",
    "\n",
    "required_fields = ['byr', 'iyr', 'eyr', 'hgt', 'hcl', 'ecl', 'pid']\n",
    "\n",
    "\n",
    "def is_valid(passport):\n",
    "    return all(k in passport for k in required_fields)\n",
    "\n",
    "def is_valid2(passport):\n",
    "    if not is_valid(passport):\n",
    "        return False\n",
    "    return valid_year(passport['byr'], 1920, 2002) and \\\n",
    "            valid_year(passport['iyr'], 2010, 2020) and \\\n",
    "            valid_year(passport['eyr'], 2020, 2030) and \\\n",
    "            valid_height(passport['hgt']) and \\\n",
    "            valid_hair_color(passport['hcl']) and \\\n",
    "            valid_eye_color(passport['ecl']) and \\\n",
    "            valid_pid(passport['pid'])\n",
    "\n",
    "def valid_year(s, lo, hi):\n",
    "    try:\n",
    "        year = int(s)\n",
    "    except Exception:\n",
    "        return False\n",
    "    else:\n",
    "        return lo <= year <= hi and len(s) == 4\n",
    "\n",
    "def valid_hair_color(s):\n",
    "    return re.match(color_regex, s)\n",
    "\n",
    "def valid_height(s):\n",
    "    if s.endswith('cm'):\n",
    "        try:\n",
    "            num = int(s[:-2])\n",
    "        except Exception:\n",
    "            return False\n",
    "        else:\n",
    "            return 150 <= num <= 193\n",
    "    elif s.endswith('in'):\n",
    "        try:\n",
    "            num = int(s[:-2])\n",
    "        except Exception:\n",
    "            return False\n",
    "        else:\n",
    "            return 59 <= num <= 76\n",
    "    else:\n",
    "        return False\n",
    "\n",
    "def valid_eye_color(s):\n",
    "    return s in ('amb', 'blu', 'brn', 'gry', 'grn', 'hzl', 'oth')\n",
    "\n",
    "def valid_pid(s):\n",
    "    return len(s) == 9 and all('0'<=c<='9' for c in s)\n",
    "\n",
    "def part1(input_file):\n",
    "    lines = read_lines(input_file)\n",
    "    ans = 0\n",
    "    passport = {}\n",
    "\n",
    "    for line in lines:\n",
    "        if not line:\n",
    "            if is_valid(passport):\n",
    "                ans += 1\n",
    "            passport = {}\n",
    "        else:\n",
    "            parts = line.split(' ')\n",
    "            for p in parts:\n",
    "                k, v = p.split(':')\n",
    "                passport[k] = v\n",
    "    if is_valid(passport):\n",
    "        ans += 1\n",
    "    return ans\n",
    "\n",
    "def part2(input_file):\n",
    "    lines = read_lines(input_file)\n",
    "    ans = 0\n",
    "    passport = {}\n",
    "\n",
    "    for line in lines:\n",
    "        if not line:\n",
    "            if is_valid2(passport):\n",
    "                ans += 1\n",
    "            passport = {}\n",
    "        else:\n",
    "            parts = line.split(' ')\n",
    "            for p in parts:\n",
    "                k, v = p.split(':')\n",
    "                passport[k] = v\n",
    "    if is_valid2(passport):\n",
    "        ans += 1\n",
    "    return ans"
   ]
  },
  {
   "cell_type": "code",
   "execution_count": 42,
   "metadata": {},
   "outputs": [
    {
     "data": {
      "text/plain": [
       "2"
      ]
     },
     "execution_count": 42,
     "metadata": {},
     "output_type": "execute_result"
    }
   ],
   "source": [
    "part1('inputs/day4_test.txt')"
   ]
  },
  {
   "cell_type": "code",
   "execution_count": 9,
   "metadata": {},
   "outputs": [
    {
     "data": {
      "text/plain": [
       "230"
      ]
     },
     "execution_count": 9,
     "metadata": {},
     "output_type": "execute_result"
    }
   ],
   "source": [
    "part1('inputs/day4.txt')"
   ]
  },
  {
   "cell_type": "code",
   "execution_count": 43,
   "metadata": {},
   "outputs": [
    {
     "data": {
      "text/plain": [
       "156"
      ]
     },
     "execution_count": 43,
     "metadata": {},
     "output_type": "execute_result"
    }
   ],
   "source": [
    "part2('inputs/day4.txt')"
   ]
  },
  {
   "cell_type": "code",
   "execution_count": null,
   "metadata": {},
   "outputs": [],
   "source": []
  }
 ],
 "metadata": {
  "kernelspec": {
   "display_name": "Test",
   "language": "python",
   "name": "python3"
  },
  "language_info": {
   "codemirror_mode": {
    "name": "ipython",
    "version": 3
   },
   "file_extension": ".py",
   "mimetype": "text/x-python",
   "name": "python",
   "nbconvert_exporter": "python",
   "pygments_lexer": "ipython3",
   "version": "3.12.2"
  }
 },
 "nbformat": 4,
 "nbformat_minor": 2
}
