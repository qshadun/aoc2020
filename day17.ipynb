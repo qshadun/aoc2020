{
 "cells": [
  {
   "cell_type": "code",
   "execution_count": 44,
   "metadata": {},
   "outputs": [],
   "source": [
    "import numpy as np\n",
    "from utils import read_lines\n",
    "from collections import Counter\n",
    "\n",
    "deltas = [[x, y, z] for x in [-1, 0, 1] for y in [-1, 0, 1] for z in [-1, 0, 1] if (x or y or z)]\n",
    "\n",
    "def count_active_neighbors(cubic, x, y, z):\n",
    "    ans = 0\n",
    "    for dx, dy, dz in deltas:\n",
    "        nx, ny, nz = x+dx, y+dy, z+dz\n",
    "        if 0 <= nx < len(cubic) and 0 <= ny < len(cubic[0]) and 0 <= nz < len(cubic[0][0]) and cubic[nx][ny][nz] == '#':\n",
    "            ans += 1\n",
    "    return ans\n",
    "\n",
    "def enlarge(cubic):\n",
    "    n1, n2, n3 = cubic.shape\n",
    "    ans = np.full((n1+2, n2+2, n3+2), '.')\n",
    "    for i in range(n1):\n",
    "        for j in range(n2):\n",
    "            for k in range(n3):\n",
    "                ans[i+1][j+1][k+1] = cubic[i][j][k]\n",
    "    return ans\n",
    "\n",
    "\n",
    "def cycle(cubic):\n",
    "    cubic = enlarge(cubic)\n",
    "    ans = np.copy(cubic)\n",
    "    n1, n2, n3 = cubic.shape\n",
    "    for i in range(n1):\n",
    "        for j in range(n2):\n",
    "            for k in range(n3):\n",
    "                cnt = count_active_neighbors(cubic, i, j, k)\n",
    "                if cubic[i][j][k] == '.' and cnt == 3:\n",
    "                    ans[i][j][k] = '#'\n",
    "                elif cubic[i][j][k] == '#' and cnt not in (2, 3):\n",
    "                    ans[i][j][k] = '.'\n",
    "    return ans\n",
    "\n",
    "def part1(input_file):\n",
    "    lines = read_lines(input_file)\n",
    "    m = len(lines)\n",
    "    n = len(lines[0])\n",
    "    matrix = [[c for c in line] for line in lines]\n",
    "    cubic = np.array(matrix).reshape(m, n, 1)\n",
    "    for i in range(6):\n",
    "        cubic = cycle(cubic)\n",
    "    return Counter(cubic.reshape(-1))['#']\n",
    "    "
   ]
  },
  {
   "cell_type": "code",
   "execution_count": 45,
   "metadata": {},
   "outputs": [
    {
     "data": {
      "text/plain": [
       "112"
      ]
     },
     "execution_count": 45,
     "metadata": {},
     "output_type": "execute_result"
    }
   ],
   "source": [
    "part1('inputs/day17_test.txt')"
   ]
  },
  {
   "cell_type": "code",
   "execution_count": 46,
   "metadata": {},
   "outputs": [
    {
     "data": {
      "text/plain": [
       "273"
      ]
     },
     "execution_count": 46,
     "metadata": {},
     "output_type": "execute_result"
    }
   ],
   "source": [
    "part1('inputs/day17.txt')"
   ]
  },
  {
   "cell_type": "code",
   "execution_count": 48,
   "metadata": {},
   "outputs": [],
   "source": [
    "deltas = [[x, y, z, alpha] for x in [-1, 0, 1] for y in [-1, 0, 1] for z in [-1, 0, 1] for alpha in [-1, 0, 1] if (x or y or z or alpha)]\n",
    "\n",
    "def count_active_neighbors2(cubic, x, y, z, alpha):\n",
    "    ans = 0\n",
    "    for dx, dy, dz, d_alpha in deltas:\n",
    "        nx, ny, nz, n_alpha = x+dx, y+dy, z+dz, alpha + d_alpha\n",
    "        if 0 <= nx < len(cubic) and 0 <= ny < len(cubic[0]) and 0 <= nz < len(cubic[0][0])  and 0 <= n_alpha < len(cubic[0][0][0]) and cubic[nx][ny][nz][n_alpha] == '#':\n",
    "            ans += 1\n",
    "    return ans\n",
    "\n",
    "def enlarge2(cubic):\n",
    "    n1, n2, n3, n4 = cubic.shape\n",
    "    ans = np.full((n1+2, n2+2, n3+2, n4+2), '.')\n",
    "    for i in range(n1):\n",
    "        for j in range(n2):\n",
    "            for k in range(n3):\n",
    "                for h in range(n4):\n",
    "                    ans[i+1][j+1][k+1][h+1] = cubic[i][j][k][h]\n",
    "    return ans\n",
    "\n",
    "\n",
    "def cycle2(cubic):\n",
    "    cubic = enlarge2(cubic)\n",
    "    ans = np.copy(cubic)\n",
    "    n1, n2, n3, n4 = cubic.shape\n",
    "    for i in range(n1):\n",
    "        for j in range(n2):\n",
    "            for k in range(n3):\n",
    "                for h in range(n4):\n",
    "                    cnt = count_active_neighbors2(cubic, i, j, k, h)\n",
    "                    if cubic[i][j][k][h] == '.' and cnt == 3:\n",
    "                        ans[i][j][k][h] = '#'\n",
    "                    elif cubic[i][j][k][h] == '#' and cnt not in (2, 3):\n",
    "                        ans[i][j][k][h] = '.'\n",
    "    return ans\n",
    "\n",
    "def part2(input_file):\n",
    "    lines = read_lines(input_file)\n",
    "    m = len(lines)\n",
    "    n = len(lines[0])\n",
    "    matrix = [[c for c in line] for line in lines]\n",
    "    cubic = np.array(matrix).reshape(m, n, 1, 1)\n",
    "    for i in range(6):\n",
    "        cubic = cycle2(cubic)\n",
    "    return Counter(cubic.reshape(-1))['#']"
   ]
  },
  {
   "cell_type": "code",
   "execution_count": 49,
   "metadata": {},
   "outputs": [
    {
     "data": {
      "text/plain": [
       "848"
      ]
     },
     "execution_count": 49,
     "metadata": {},
     "output_type": "execute_result"
    }
   ],
   "source": [
    "part2('inputs/day17_test.txt')"
   ]
  },
  {
   "cell_type": "code",
   "execution_count": 50,
   "metadata": {},
   "outputs": [
    {
     "data": {
      "text/plain": [
       "1504"
      ]
     },
     "execution_count": 50,
     "metadata": {},
     "output_type": "execute_result"
    }
   ],
   "source": [
    "part2('inputs/day17.txt')"
   ]
  },
  {
   "cell_type": "code",
   "execution_count": null,
   "metadata": {},
   "outputs": [],
   "source": []
  }
 ],
 "metadata": {
  "kernelspec": {
   "display_name": "Test",
   "language": "python",
   "name": "python3"
  },
  "language_info": {
   "codemirror_mode": {
    "name": "ipython",
    "version": 3
   },
   "file_extension": ".py",
   "mimetype": "text/x-python",
   "name": "python",
   "nbconvert_exporter": "python",
   "pygments_lexer": "ipython3",
   "version": "3.12.2"
  }
 },
 "nbformat": 4,
 "nbformat_minor": 2
}
