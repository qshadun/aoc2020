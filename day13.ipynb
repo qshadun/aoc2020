{
 "cells": [
  {
   "cell_type": "code",
   "execution_count": 50,
   "metadata": {},
   "outputs": [],
   "source": [
    "from utils import read_lines\n",
    "import numpy as np\n",
    "\n",
    "def read_input(input_file):\n",
    "    lines = read_lines(input_file)\n",
    "    ts = int(lines[0])\n",
    "    buses = [int(x) for x in lines[1].split(',') if x != 'x']\n",
    "    return ts, buses\n",
    "\n",
    "def part1(input_file):\n",
    "    ts, buses = read_input(input_file)\n",
    "    min_wait = ts\n",
    "    ans = 0\n",
    "    for bid in buses:\n",
    "        d = ts // bid\n",
    "        wait = (d + 1) * bid - ts\n",
    "        if wait < min_wait:\n",
    "            min_wait = wait\n",
    "            ans = wait * bid\n",
    "    return ans\n",
    "\n",
    "def parse_remainders(nums):\n",
    "    remainders = {}\n",
    "    for i, num in enumerate(nums.split(',')):\n",
    "        if num == 'x': \n",
    "            continue\n",
    "        num = int(num)\n",
    "        rem = i % num\n",
    "        if rem > 0:\n",
    "            remainders[num] = num - i % num\n",
    "        else:\n",
    "            remainders[num] = 0\n",
    "    return remainders\n",
    "\n",
    "# chinese remainder theorem\n",
    "def solve(remainders):\n",
    "    mods = list(remainders)\n",
    "    prod = np.prod(mods)\n",
    "    ans = 0\n",
    "    for mod, rem in remainders.items():\n",
    "        aa = prod // mod\n",
    "        a = aa\n",
    "        while a % mod != 1:\n",
    "            a += aa\n",
    "        ans += a * rem\n",
    "    \n",
    "    ans %= prod\n",
    "    return ans\n",
    "\n",
    "def check(remainders, num):\n",
    "    for mod, rem in remainders.items():\n",
    "        if num % mod != rem:\n",
    "            print(f'{num} % {mod} = {num % mod} != {rem}')\n",
    "            return False\n",
    "    return True\n",
    "\n",
    "def part2(input_file):\n",
    "    lines = read_lines(input_file)\n",
    "    remainders = parse_remainders(lines[1])\n",
    "    return solve(remainders)"
   ]
  },
  {
   "cell_type": "code",
   "execution_count": 7,
   "metadata": {},
   "outputs": [
    {
     "data": {
      "text/plain": [
       "295"
      ]
     },
     "execution_count": 7,
     "metadata": {},
     "output_type": "execute_result"
    }
   ],
   "source": [
    "part1('inputs/day13_test.txt')"
   ]
  },
  {
   "cell_type": "code",
   "execution_count": 8,
   "metadata": {},
   "outputs": [
    {
     "data": {
      "text/plain": [
       "153"
      ]
     },
     "execution_count": 8,
     "metadata": {},
     "output_type": "execute_result"
    }
   ],
   "source": [
    "part1('inputs/day13.txt')"
   ]
  },
  {
   "cell_type": "code",
   "execution_count": 51,
   "metadata": {},
   "outputs": [
    {
     "data": {
      "text/plain": [
       "471793476184394"
      ]
     },
     "execution_count": 51,
     "metadata": {},
     "output_type": "execute_result"
    }
   ],
   "source": [
    "part2('inputs/day13.txt')"
   ]
  },
  {
   "cell_type": "code",
   "execution_count": 49,
   "metadata": {},
   "outputs": [
    {
     "name": "stdout",
     "output_type": "stream",
     "text": [
      "{7: 0, 13: 12, 59: 55, 31: 25, 19: 12}\n",
      "1068781\n"
     ]
    },
    {
     "data": {
      "text/plain": [
       "True"
      ]
     },
     "execution_count": 49,
     "metadata": {},
     "output_type": "execute_result"
    }
   ],
   "source": [
    "remainders = parse_remainders('7,13,x,x,59,x,31,19')\n",
    "print(remainders)\n",
    "s = solve(remainders)\n",
    "print(s)\n",
    "check(remainders, s)"
   ]
  }
 ],
 "metadata": {
  "kernelspec": {
   "display_name": "Test",
   "language": "python",
   "name": "python3"
  },
  "language_info": {
   "codemirror_mode": {
    "name": "ipython",
    "version": 3
   },
   "file_extension": ".py",
   "mimetype": "text/x-python",
   "name": "python",
   "nbconvert_exporter": "python",
   "pygments_lexer": "ipython3",
   "version": "3.12.2"
  }
 },
 "nbformat": 4,
 "nbformat_minor": 2
}
