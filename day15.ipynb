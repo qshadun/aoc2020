{
 "cells": [
  {
   "cell_type": "code",
   "execution_count": 16,
   "metadata": {},
   "outputs": [],
   "source": [
    "def part1(start):\n",
    "    nums = start[:]\n",
    "    last_spoken = {num: i for i, num in enumerate(nums)}\n",
    "    prev_spoken = {}\n",
    "\n",
    "    while len(nums) < 2020:\n",
    "        num = nums[-1]\n",
    "        if num in prev_spoken:\n",
    "            new_num = last_spoken[num] - prev_spoken[num]\n",
    "        else:\n",
    "            new_num = 0\n",
    "        if new_num in last_spoken:\n",
    "            prev_spoken[new_num] = last_spoken[new_num]\n",
    "        last_spoken[new_num] = len(nums)\n",
    "        nums.append(new_num)\n",
    "        \n",
    "    return nums[-1]\n"
   ]
  },
  {
   "cell_type": "code",
   "execution_count": 20,
   "metadata": {},
   "outputs": [],
   "source": [
    "assert part1([0,3,6]) == 436\n",
    "assert part1([1,3,2]) == 1\n",
    "assert part1([2,1,3]) == 10\n",
    "assert part1([1,2,3]) == 27\n",
    "assert part1([3,1,2]) == 1836"
   ]
  },
  {
   "cell_type": "code",
   "execution_count": 21,
   "metadata": {},
   "outputs": [
    {
     "data": {
      "text/plain": [
       "289"
      ]
     },
     "execution_count": 21,
     "metadata": {},
     "output_type": "execute_result"
    }
   ],
   "source": [
    "part1([0,8,15,2,12,1,4])"
   ]
  },
  {
   "cell_type": "code",
   "execution_count": 88,
   "metadata": {},
   "outputs": [],
   "source": [
    "def part2(start):\n",
    "    nums = start[:]\n",
    "    last_spoken = {num: i for i, num in enumerate(nums[:-1])}\n",
    "    \n",
    "    same = nums[-1]\n",
    "    turn = len(nums) - 1\n",
    "    while turn < 3e7 - 1:\n",
    "        if same in last_spoken:\n",
    "            diff = turn - last_spoken[same]\n",
    "            last_spoken[same] = turn\n",
    "        else:\n",
    "            diff = 0\n",
    "            last_spoken[same] = turn\n",
    "        same = diff\n",
    "        turn += 1\n",
    "        \n",
    "    return same"
   ]
  },
  {
   "cell_type": "code",
   "execution_count": 89,
   "metadata": {},
   "outputs": [
    {
     "data": {
      "text/plain": [
       "175594"
      ]
     },
     "execution_count": 89,
     "metadata": {},
     "output_type": "execute_result"
    }
   ],
   "source": [
    "part2([0, 3, 6])"
   ]
  },
  {
   "cell_type": "code",
   "execution_count": 90,
   "metadata": {},
   "outputs": [
    {
     "data": {
      "text/plain": [
       "1505722"
      ]
     },
     "execution_count": 90,
     "metadata": {},
     "output_type": "execute_result"
    }
   ],
   "source": [
    "part2([0,8,15,2,12,1,4])"
   ]
  },
  {
   "cell_type": "code",
   "execution_count": null,
   "metadata": {},
   "outputs": [],
   "source": []
  }
 ],
 "metadata": {
  "kernelspec": {
   "display_name": "Test",
   "language": "python",
   "name": "python3"
  },
  "language_info": {
   "codemirror_mode": {
    "name": "ipython",
    "version": 3
   },
   "file_extension": ".py",
   "mimetype": "text/x-python",
   "name": "python",
   "nbconvert_exporter": "python",
   "pygments_lexer": "ipython3",
   "version": "3.12.2"
  }
 },
 "nbformat": 4,
 "nbformat_minor": 2
}
