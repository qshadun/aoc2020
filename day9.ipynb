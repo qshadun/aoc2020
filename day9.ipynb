{
 "cells": [
  {
   "cell_type": "code",
   "execution_count": 10,
   "metadata": {},
   "outputs": [],
   "source": [
    "from utils import read_lines\n",
    "\n",
    "def valid(nums, idx):\n",
    "    start, end = idx - 25, idx - 1\n",
    "    for i in range(start, end):\n",
    "        for j in range(i+1, end + 1):\n",
    "            if nums[i] + nums[j] == nums[idx]:\n",
    "                return True\n",
    "    return False\n",
    "\n",
    "def part1(input_file):\n",
    "    nums = [int(line) for line in read_lines(input_file)]\n",
    "    for i in range(25, len(nums)):\n",
    "        if not valid(nums, i):\n",
    "            return nums[i]\n",
    "\n",
    "def part2(input_file):\n",
    "    nums = [int(line) for line in read_lines(input_file)]\n",
    "    target = part1(input_file)\n",
    "    left, right = 0, 0\n",
    "    cur_sum = nums[0]\n",
    "    while cur_sum != target:\n",
    "        while cur_sum < target:\n",
    "            right += 1\n",
    "            cur_sum += nums[right]\n",
    "        while cur_sum > target:\n",
    "            cur_sum -= nums[left]\n",
    "            left += 1\n",
    "    seq = nums[left:right+1]\n",
    "    return min(seq) + max(seq)"
   ]
  },
  {
   "cell_type": "code",
   "execution_count": 8,
   "metadata": {},
   "outputs": [
    {
     "data": {
      "text/plain": [
       "133015568"
      ]
     },
     "execution_count": 8,
     "metadata": {},
     "output_type": "execute_result"
    }
   ],
   "source": [
    "part1('inputs/day9.txt')"
   ]
  },
  {
   "cell_type": "code",
   "execution_count": 11,
   "metadata": {},
   "outputs": [
    {
     "data": {
      "text/plain": [
       "16107959"
      ]
     },
     "execution_count": 11,
     "metadata": {},
     "output_type": "execute_result"
    }
   ],
   "source": [
    "part2('inputs/day9.txt')"
   ]
  },
  {
   "cell_type": "code",
   "execution_count": null,
   "metadata": {},
   "outputs": [],
   "source": []
  }
 ],
 "metadata": {
  "kernelspec": {
   "display_name": "Test",
   "language": "python",
   "name": "python3"
  },
  "language_info": {
   "codemirror_mode": {
    "name": "ipython",
    "version": 3
   },
   "file_extension": ".py",
   "mimetype": "text/x-python",
   "name": "python",
   "nbconvert_exporter": "python",
   "pygments_lexer": "ipython3",
   "version": "3.12.2"
  }
 },
 "nbformat": 4,
 "nbformat_minor": 2
}
