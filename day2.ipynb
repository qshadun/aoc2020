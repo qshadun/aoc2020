{
 "cells": [
  {
   "cell_type": "code",
   "execution_count": 5,
   "metadata": {},
   "outputs": [],
   "source": [
    "from utils import read_lines\n",
    "import re\n",
    "from collections import Counter\n",
    "\n",
    "# 4-16 k: jkkqkkgkrkvxkkkkskgb\n",
    "reg = re.compile(r'(\\d+)-(\\d+) (.): (.+)')\n",
    "\n",
    "def parse_line(line):\n",
    "    m = re.match(reg, line)\n",
    "    return int(m.group(1)), int(m.group(2)), m.group(3), m.group(4)\n",
    "\n",
    "def part1(input_file):\n",
    "    lines = read_lines(input_file)\n",
    "    ans = 0\n",
    "    for line in lines:\n",
    "        lo, hi, c, s = parse_line(line)\n",
    "        if lo <= Counter(s).get(c, 0) <= hi:\n",
    "            ans += 1\n",
    "    return ans\n",
    "\n",
    "def part2(input_file):\n",
    "    lines = read_lines(input_file)\n",
    "    ans = 0\n",
    "    for line in lines:\n",
    "        lo, hi, c, s = parse_line(line)\n",
    "        cnt = 0\n",
    "        if s[lo-1] == c:\n",
    "            cnt += 1\n",
    "        if s[hi-1] == c:\n",
    "            cnt += 1\n",
    "        if cnt == 1:\n",
    "            ans += 1\n",
    "    return ans"
   ]
  },
  {
   "cell_type": "code",
   "execution_count": 4,
   "metadata": {},
   "outputs": [
    {
     "data": {
      "text/plain": [
       "414"
      ]
     },
     "execution_count": 4,
     "metadata": {},
     "output_type": "execute_result"
    }
   ],
   "source": [
    "part1('inputs/day2.txt')"
   ]
  },
  {
   "cell_type": "code",
   "execution_count": 6,
   "metadata": {},
   "outputs": [
    {
     "data": {
      "text/plain": [
       "413"
      ]
     },
     "execution_count": 6,
     "metadata": {},
     "output_type": "execute_result"
    }
   ],
   "source": [
    "part2('inputs/day2.txt')"
   ]
  },
  {
   "cell_type": "code",
   "execution_count": null,
   "metadata": {},
   "outputs": [],
   "source": []
  }
 ],
 "metadata": {
  "kernelspec": {
   "display_name": "Test",
   "language": "python",
   "name": "python3"
  },
  "language_info": {
   "codemirror_mode": {
    "name": "ipython",
    "version": 3
   },
   "file_extension": ".py",
   "mimetype": "text/x-python",
   "name": "python",
   "nbconvert_exporter": "python",
   "pygments_lexer": "ipython3",
   "version": "3.12.2"
  }
 },
 "nbformat": 4,
 "nbformat_minor": 2
}
