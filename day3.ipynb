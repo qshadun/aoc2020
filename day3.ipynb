{
 "cells": [
  {
   "cell_type": "code",
   "execution_count": 15,
   "metadata": {},
   "outputs": [],
   "source": [
    "from utils import read_lines\n",
    "\n",
    "def parse_input(input_file):\n",
    "    return read_lines(input_file)\n",
    "\n",
    "def part1(input_file):\n",
    "    matrix = parse_input(input_file)\n",
    "    m = len(matrix)\n",
    "    n = len(matrix[0])\n",
    "    ans = 0\n",
    "    for i in range(1, m):\n",
    "        j = 3*i % n\n",
    "        if matrix[i][j] == '#':\n",
    "            ans += 1\n",
    "    return ans\n",
    "\n",
    "def check_slope(matrix, right, down):\n",
    "    i = 0\n",
    "    j = 0\n",
    "    ans = 0\n",
    "    while i < len(matrix) - 1:\n",
    "        i += down\n",
    "        j = (j + right) % len(matrix[0])\n",
    "        if matrix[i][j] == '#':\n",
    "            ans += 1\n",
    "    return ans\n",
    "\n",
    "def part2(input_file):\n",
    "    matrix = parse_input(input_file)\n",
    "    ans = 1\n",
    "    for right, down in [[1, 1], [3, 1], [5, 1], [7, 1], [1, 2]]:\n",
    "        ans *= check_slope(matrix, right, down)\n",
    "    return ans"
   ]
  },
  {
   "cell_type": "code",
   "execution_count": 10,
   "metadata": {},
   "outputs": [
    {
     "data": {
      "text/plain": [
       "7"
      ]
     },
     "execution_count": 10,
     "metadata": {},
     "output_type": "execute_result"
    }
   ],
   "source": [
    "part1('inputs/day3_test.txt')"
   ]
  },
  {
   "cell_type": "code",
   "execution_count": 12,
   "metadata": {},
   "outputs": [
    {
     "data": {
      "text/plain": [
       "250"
      ]
     },
     "execution_count": 12,
     "metadata": {},
     "output_type": "execute_result"
    }
   ],
   "source": [
    "part1('inputs/day3.txt')"
   ]
  },
  {
   "cell_type": "code",
   "execution_count": 16,
   "metadata": {},
   "outputs": [
    {
     "data": {
      "text/plain": [
       "336"
      ]
     },
     "execution_count": 16,
     "metadata": {},
     "output_type": "execute_result"
    }
   ],
   "source": [
    "part2('inputs/day3_test.txt')"
   ]
  },
  {
   "cell_type": "code",
   "execution_count": 17,
   "metadata": {},
   "outputs": [
    {
     "data": {
      "text/plain": [
       "1592662500"
      ]
     },
     "execution_count": 17,
     "metadata": {},
     "output_type": "execute_result"
    }
   ],
   "source": [
    "part2('inputs/day3.txt')"
   ]
  },
  {
   "cell_type": "code",
   "execution_count": null,
   "metadata": {},
   "outputs": [],
   "source": []
  }
 ],
 "metadata": {
  "kernelspec": {
   "display_name": "Test",
   "language": "python",
   "name": "python3"
  },
  "language_info": {
   "codemirror_mode": {
    "name": "ipython",
    "version": 3
   },
   "file_extension": ".py",
   "mimetype": "text/x-python",
   "name": "python",
   "nbconvert_exporter": "python",
   "pygments_lexer": "ipython3",
   "version": "3.12.2"
  }
 },
 "nbformat": 4,
 "nbformat_minor": 2
}
