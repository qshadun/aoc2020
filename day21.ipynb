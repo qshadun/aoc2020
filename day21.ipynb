{
 "cells": [
  {
   "cell_type": "code",
   "execution_count": 32,
   "metadata": {},
   "outputs": [],
   "source": [
    "from utils import read_lines\n",
    "from collections import defaultdict\n",
    "\n",
    "def parse_input(input_file):\n",
    "    ans = []\n",
    "    for line in read_lines(input_file):\n",
    "        s1, s2 = line.split(' (')\n",
    "        ingredients = s1.split(' ')\n",
    "        allergens = s2.split(' ')\n",
    "        allergens = [x[:-1] for x in allergens[1:]]\n",
    "        ans.append((set(ingredients), allergens))\n",
    "    return ans\n",
    "\n",
    "def solve(input_file):\n",
    "    input = parse_input(input_file)\n",
    "    all_ingredients = set()\n",
    "    allergen_to_possible_ingredients: dict[str, set] = {}\n",
    "    for ingredients, allergens in input:\n",
    "        all_ingredients.update(ingredients)\n",
    "        for allergen in allergens:\n",
    "            if allergen not in allergen_to_possible_ingredients:\n",
    "                allergen_to_possible_ingredients[allergen] = set(ingredients)\n",
    "            else:\n",
    "                allergen_to_possible_ingredients[allergen] = allergen_to_possible_ingredients[allergen].intersection(ingredients)\n",
    "    a2i = {}\n",
    "    i2a = {}\n",
    "    stack = []\n",
    "    for k, v in allergen_to_possible_ingredients.items():\n",
    "        if len(v) == 1:\n",
    "            stack.append(k)\n",
    "    while stack:\n",
    "        aller = stack.pop()\n",
    "        ingre = next(iter(allergen_to_possible_ingredients[aller]))\n",
    "        a2i[aller] = ingre\n",
    "        i2a[ingre] = aller\n",
    "        for k, v in allergen_to_possible_ingredients.items():\n",
    "            if len(v) > 1:\n",
    "                v.discard(ingre)\n",
    "                if len(v) == 1:\n",
    "                    stack.append(k)\n",
    "    return a2i, i2a, input\n",
    "\n",
    "def part1(input_file):\n",
    "    a2i, i2a, input = solve(input_file)\n",
    "    ans = 0\n",
    "    for ingredients, _ in input:\n",
    "        for ingre in ingredients:\n",
    "            if ingre not in i2a:\n",
    "                ans += 1\n",
    "    return ans\n",
    "\n",
    "def part2(input_file):\n",
    "    _, i2a, _ = solve(input_file)\n",
    "    dis = list(i2a.keys())\n",
    "    dis.sort(key=lambda i: i2a[i])\n",
    "    return ','.join(dis)\n",
    "\n"
   ]
  },
  {
   "cell_type": "code",
   "execution_count": 30,
   "metadata": {},
   "outputs": [
    {
     "data": {
      "text/plain": [
       "5"
      ]
     },
     "execution_count": 30,
     "metadata": {},
     "output_type": "execute_result"
    }
   ],
   "source": [
    "part1('inputs/day21_test.txt')"
   ]
  },
  {
   "cell_type": "code",
   "execution_count": 31,
   "metadata": {},
   "outputs": [
    {
     "data": {
      "text/plain": [
       "2423"
      ]
     },
     "execution_count": 31,
     "metadata": {},
     "output_type": "execute_result"
    }
   ],
   "source": [
    "part1('inputs/day21.txt')"
   ]
  },
  {
   "cell_type": "code",
   "execution_count": 33,
   "metadata": {},
   "outputs": [
    {
     "data": {
      "text/plain": [
       "'mxmxvkd,sqjhc,fvjkl'"
      ]
     },
     "execution_count": 33,
     "metadata": {},
     "output_type": "execute_result"
    }
   ],
   "source": [
    "part2('inputs/day21_test.txt')"
   ]
  },
  {
   "cell_type": "code",
   "execution_count": 34,
   "metadata": {},
   "outputs": [
    {
     "data": {
      "text/plain": [
       "'jzzjz,bxkrd,pllzxb,gjddl,xfqnss,dzkb,vspv,dxvsp'"
      ]
     },
     "execution_count": 34,
     "metadata": {},
     "output_type": "execute_result"
    }
   ],
   "source": [
    "part2('inputs/day21.txt')"
   ]
  },
  {
   "cell_type": "code",
   "execution_count": null,
   "metadata": {},
   "outputs": [],
   "source": []
  }
 ],
 "metadata": {
  "kernelspec": {
   "display_name": "Test",
   "language": "python",
   "name": "python3"
  },
  "language_info": {
   "codemirror_mode": {
    "name": "ipython",
    "version": 3
   },
   "file_extension": ".py",
   "mimetype": "text/x-python",
   "name": "python",
   "nbconvert_exporter": "python",
   "pygments_lexer": "ipython3",
   "version": "3.12.2"
  }
 },
 "nbformat": 4,
 "nbformat_minor": 2
}
