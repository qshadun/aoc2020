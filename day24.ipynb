{
 "cells": [
  {
   "cell_type": "code",
   "execution_count": 25,
   "metadata": {},
   "outputs": [],
   "source": [
    "from utils import read_lines\n",
    "from collections import defaultdict\n",
    "deltas = {\n",
    "    'e': (2, 0),\n",
    "    'w': (-2,0),\n",
    "    'ne': (1, 1),\n",
    "    'nw': (-1, 1),\n",
    "    'se': (1, -1),\n",
    "    'sw': (-1, -1),\n",
    "}\n",
    "\n",
    "def final_pos(instruction):\n",
    "    x, y = 0, 0\n",
    "    i = 0\n",
    "    while i < len(instruction):\n",
    "        if instruction[i] == 'e' or instruction[i] == 'w':\n",
    "            dx, dy = deltas[instruction[i]]\n",
    "            x, y = x + dx, y + dy\n",
    "            i += 1\n",
    "        else:\n",
    "            dx, dy = deltas[instruction[i: i+2]]\n",
    "            x, y = x + dx, y + dy\n",
    "            i += 2\n",
    "    return x, y\n",
    "\n",
    "def part1(input_file):\n",
    "    flipped = defaultdict(int)\n",
    "    for line in read_lines(input_file):\n",
    "        flipped[final_pos(line)] += 1\n",
    "    ans = 0\n",
    "    for v in flipped.values():\n",
    "        if v % 2:\n",
    "            ans += 1\n",
    "    return ans\n",
    "\n",
    "def get_neighbors(pos):\n",
    "    x, y = pos\n",
    "    return [(x+dx, y+dy) for dx, dy in deltas.values()]\n",
    "\n",
    "def count_neighbor_black(pos, blacks):\n",
    "    ans = 0\n",
    "    for pos in get_neighbors(pos):\n",
    "        if pos in blacks:\n",
    "            ans += 1\n",
    "    return ans\n",
    "\n",
    "def part2(input_file):\n",
    "    flipped = defaultdict(int)\n",
    "    for line in read_lines(input_file):\n",
    "        flipped[final_pos(line)] += 1\n",
    "    blacks = {pos for pos, cnt in flipped.items() if cnt % 2}\n",
    "    for _ in range(100):\n",
    "        new_blacks = set()\n",
    "        visited = set()\n",
    "        for pos in blacks:\n",
    "            if pos not in visited:\n",
    "                if 0 < count_neighbor_black(pos, blacks) <= 2:\n",
    "                    new_blacks.add(pos)\n",
    "                visited.add(pos)\n",
    "            for neighbor_pos in get_neighbors(pos):\n",
    "                if neighbor_pos not in visited:\n",
    "                    cnt = count_neighbor_black(neighbor_pos, blacks)\n",
    "                    if neighbor_pos in blacks and 0 < cnt <= 2:\n",
    "                        new_blacks.add(neighbor_pos)\n",
    "                    elif neighbor_pos not in blacks and cnt == 2:\n",
    "                        new_blacks.add(neighbor_pos)\n",
    "                    visited.add(neighbor_pos)\n",
    "        blacks = new_blacks\n",
    "    return len(blacks)\n"
   ]
  },
  {
   "cell_type": "code",
   "execution_count": 10,
   "metadata": {},
   "outputs": [
    {
     "data": {
      "text/plain": [
       "10"
      ]
     },
     "execution_count": 10,
     "metadata": {},
     "output_type": "execute_result"
    }
   ],
   "source": [
    "part1('inputs/day24_test.txt')"
   ]
  },
  {
   "cell_type": "code",
   "execution_count": 11,
   "metadata": {},
   "outputs": [
    {
     "data": {
      "text/plain": [
       "360"
      ]
     },
     "execution_count": 11,
     "metadata": {},
     "output_type": "execute_result"
    }
   ],
   "source": [
    "part1('inputs/day24.txt')"
   ]
  },
  {
   "cell_type": "code",
   "execution_count": 26,
   "metadata": {},
   "outputs": [
    {
     "data": {
      "text/plain": [
       "2208"
      ]
     },
     "execution_count": 26,
     "metadata": {},
     "output_type": "execute_result"
    }
   ],
   "source": [
    "part2('inputs/day24_test.txt')"
   ]
  },
  {
   "cell_type": "code",
   "execution_count": 27,
   "metadata": {},
   "outputs": [
    {
     "data": {
      "text/plain": [
       "3924"
      ]
     },
     "execution_count": 27,
     "metadata": {},
     "output_type": "execute_result"
    }
   ],
   "source": [
    "part2('inputs/day24.txt')"
   ]
  }
 ],
 "metadata": {
  "kernelspec": {
   "display_name": "Test",
   "language": "python",
   "name": "python3"
  },
  "language_info": {
   "codemirror_mode": {
    "name": "ipython",
    "version": 3
   },
   "file_extension": ".py",
   "mimetype": "text/x-python",
   "name": "python",
   "nbconvert_exporter": "python",
   "pygments_lexer": "ipython3",
   "version": "3.12.2"
  }
 },
 "nbformat": 4,
 "nbformat_minor": 2
}
