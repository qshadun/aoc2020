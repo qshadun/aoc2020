{
 "cells": [
  {
   "cell_type": "code",
   "execution_count": 19,
   "metadata": {},
   "outputs": [],
   "source": [
    "from utils import read_lines\n",
    "from collections import deque\n",
    "import itertools\n",
    "\n",
    "def parse_input(input_file):\n",
    "    lines = read_lines(input_file)\n",
    "    sep_idx = 0\n",
    "    for i, line in enumerate(lines):\n",
    "        if not line:\n",
    "            sep_idx = i\n",
    "            break\n",
    "    p1 = [int(x) for x in lines[1:sep_idx]]\n",
    "    p2 = [int(x) for x in lines[sep_idx+2:]]\n",
    "    return deque(p1), deque(p2)\n",
    "\n",
    "def part1(input_file):\n",
    "    p1, p2 = parse_input(input_file)\n",
    "    while p1 and p2:\n",
    "        c1, c2 = p1.popleft(), p2.popleft()\n",
    "        if c1 > c2:\n",
    "            p1.append(c1)\n",
    "            p1.append(c2)\n",
    "        else:\n",
    "            p2.append(c2)\n",
    "            p2.append(c1)\n",
    "    if p1:\n",
    "        p = p1\n",
    "    else:\n",
    "        p = p2\n",
    "    ans = 0\n",
    "\n",
    "    for i, c in enumerate(p):\n",
    "        ans += c * (len(p) - i)\n",
    "    return ans\n",
    "\n",
    "def recur_combat(t1, t2):\n",
    "    seen1 = set()\n",
    "    seen2 = set()\n",
    "    p1 = deque(t1)\n",
    "    p2 = deque(t2)\n",
    "    while p1 and p2:\n",
    "        t1 = tuple(p1)\n",
    "        t2 = tuple(p2)\n",
    "        if  t1 in seen1 or t2 in seen2:\n",
    "            return True, p1, p2\n",
    "        else:\n",
    "            seen1.add(t1)\n",
    "            seen2.add(t2)\n",
    "\n",
    "        c1, c2 = p1.popleft(), p2.popleft()\n",
    "        if c1 <= len(p1) and c2 <= len(p2):\n",
    "            sub_p1_win, _, _ = recur_combat(tuple(itertools.islice(p1, 0, c1)), tuple(itertools.islice(p2, 0, c2)))\n",
    "            if sub_p1_win:\n",
    "                p1.append(c1)\n",
    "                p1.append(c2)\n",
    "            else:\n",
    "                p2.append(c2)\n",
    "                p2.append(c1)\n",
    "        else:\n",
    "            if c1 > c2:\n",
    "                p1.append(c1)\n",
    "                p1.append(c2)\n",
    "            else:\n",
    "                p2.append(c2)\n",
    "                p2.append(c1)\n",
    "    return bool(p1), p1, p2\n",
    "\n",
    "def part2(input_file):\n",
    "    p1, p2 = parse_input(input_file)\n",
    "    \n",
    "    p1_win, p1, p2 = recur_combat(tuple(p1), tuple(p2))\n",
    "    if p1_win:\n",
    "        p = p1\n",
    "    else:\n",
    "        p = p2\n",
    "    ans = 0\n",
    "\n",
    "    for i, c in enumerate(p):\n",
    "        ans += c * (len(p) - i)\n",
    "    return ans\n"
   ]
  },
  {
   "cell_type": "code",
   "execution_count": 2,
   "metadata": {},
   "outputs": [
    {
     "data": {
      "text/plain": [
       "306"
      ]
     },
     "execution_count": 2,
     "metadata": {},
     "output_type": "execute_result"
    }
   ],
   "source": [
    "part1('inputs/day22_test.txt')"
   ]
  },
  {
   "cell_type": "code",
   "execution_count": 3,
   "metadata": {},
   "outputs": [
    {
     "data": {
      "text/plain": [
       "32033"
      ]
     },
     "execution_count": 3,
     "metadata": {},
     "output_type": "execute_result"
    }
   ],
   "source": [
    "part1('inputs/day22.txt')"
   ]
  },
  {
   "cell_type": "code",
   "execution_count": 20,
   "metadata": {},
   "outputs": [
    {
     "data": {
      "text/plain": [
       "291"
      ]
     },
     "execution_count": 20,
     "metadata": {},
     "output_type": "execute_result"
    }
   ],
   "source": [
    "part2('inputs/day22_test.txt')"
   ]
  },
  {
   "cell_type": "code",
   "execution_count": 21,
   "metadata": {},
   "outputs": [
    {
     "data": {
      "text/plain": [
       "34901"
      ]
     },
     "execution_count": 21,
     "metadata": {},
     "output_type": "execute_result"
    }
   ],
   "source": [
    "part2('inputs/day22.txt')"
   ]
  },
  {
   "cell_type": "code",
   "execution_count": null,
   "metadata": {},
   "outputs": [],
   "source": []
  }
 ],
 "metadata": {
  "kernelspec": {
   "display_name": "Test",
   "language": "python",
   "name": "python3"
  },
  "language_info": {
   "codemirror_mode": {
    "name": "ipython",
    "version": 3
   },
   "file_extension": ".py",
   "mimetype": "text/x-python",
   "name": "python",
   "nbconvert_exporter": "python",
   "pygments_lexer": "ipython3",
   "version": "3.12.2"
  }
 },
 "nbformat": 4,
 "nbformat_minor": 2
}
