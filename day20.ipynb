{
 "cells": [
  {
   "cell_type": "code",
   "execution_count": 86,
   "metadata": {},
   "outputs": [],
   "source": [
    "from utils import read_lines\n",
    "from collections import defaultdict\n",
    "import numpy as np\n",
    "\n",
    "# there are total 8 oritations: \n",
    "# non_flip, rotate 0, 90, 180, 270\n",
    "# flip: rotate 0, 90, 180,270\n",
    "def parse_input(input_file):\n",
    "    ans = {}\n",
    "    lines = read_lines(input_file)\n",
    "    for i in range(0, len(lines), 12):\n",
    "        tid = int(lines[i][5:-1])\n",
    "        rows = []\n",
    "        for j in range(i+1, i+11):\n",
    "            rows.append(lines[j])\n",
    "        ans[tid] = rows\n",
    "    return ans\n",
    "\n",
    "def find_corners(input_file):\n",
    "    tiles = parse_input(input_file)\n",
    "    n = 10\n",
    "    edge_to_tile_orient = defaultdict(list) # edge -> [(tid, edge_no, flip)]\n",
    "    for tid, rows in tiles.items():\n",
    "        edge_to_tile_orient[rows[0]].append((tid, 0, False))\n",
    "        edge_to_tile_orient[rows[0][::-1]].append((tid, 0, True))\n",
    "        edge_to_tile_orient[rows[n-1]].append((tid, 2, False))\n",
    "        edge_to_tile_orient[rows[n-1][::-1]].append((tid, 2, True))\n",
    "        edge1 = ''.join([row[n-1] for row in rows])\n",
    "        edge_to_tile_orient[edge1].append((tid, 1, False))\n",
    "        edge_to_tile_orient[edge1[::-1]].append((tid, 1, True))\n",
    "        edge3 = ''.join([row[0] for row in rows])\n",
    "        edge_to_tile_orient[edge3].append((tid, 3, False))\n",
    "        edge_to_tile_orient[edge3[::-1]].append((tid, 3, True))\n",
    "    \n",
    "    corners = []\n",
    "    for tid, rows in tiles.items():\n",
    "        same = 0\n",
    "        edges = [rows[0], rows[-1], ''.join([row[n-1] for row in rows]), ''.join([row[0] for row in rows])]\n",
    "        for edge in edges:\n",
    "            if len(edge_to_tile_orient[edge]) > 1:\n",
    "                same += 1\n",
    "        if same == 2:\n",
    "            corners.append(tid)\n",
    "    return corners, edge_to_tile_orient, tiles\n",
    "\n",
    "def part1(input_file):\n",
    "    corners, _, _ = find_corners(input_file)\n",
    "    return np.prod(corners), corners\n",
    "\n",
    "def flip_left_right(matrix):\n",
    "    ans = []\n",
    "    for row in matrix:\n",
    "        ans.append(row[::-1])\n",
    "    return ans\n",
    "\n",
    "def flip_top_down(matrix):\n",
    "    n = len(matrix)\n",
    "    ans = [[None] * n for _ in range(n)]\n",
    "    for i in range(n):\n",
    "        for j in range(n):\n",
    "            ans[i][j] = matrix[n-i-1][j]\n",
    "    return ans\n",
    "\n",
    "def rotate_clockwise_90(matrix):\n",
    "    n = len(matrix)\n",
    "    ans = [[None] * n for _ in range(n)]\n",
    "    for i in range(n):\n",
    "        for j in range(n):\n",
    "            ans[i][j] = matrix[n-1-j][i]\n",
    "    return ans\n",
    "\n",
    "def print_matrix(matrix):\n",
    "    for row in matrix:\n",
    "        print(''.join(row))\n",
    "\n",
    "def tile_to_matrix(tile):\n",
    "    ans = []\n",
    "    for row in tile:\n",
    "        ans.append([c for c in row])\n",
    "    return ans\n",
    "\n",
    "def sea_monster():\n",
    "    s = \\\n",
    "\"\"\"\n",
    "                  # \n",
    "#    ##    ##    ###\n",
    " #  #  #  #  #  #   \n",
    "\"\"\"\n",
    "    lines = s.split('\\n')\n",
    "    lines = lines[1:-1]\n",
    "    lines\n",
    "    height = len(lines)\n",
    "    width = len(lines[0])\n",
    "    sharps = []\n",
    "    for i in range(height):\n",
    "        for j in range(width):\n",
    "            if lines[i][j] == '#':\n",
    "                sharps.append([i,j])\n",
    "    return sharps, height, width\n",
    "\n",
    "\n",
    "def all_oritentions(matrix):\n",
    "    ans = [matrix.copy()]\n",
    "    for _ in range(3):\n",
    "        ans.append(rotate_clockwise_90(ans[-1]))\n",
    "        \n",
    "    ans.append(flip_top_down(matrix))\n",
    "    for _ in range(3):\n",
    "        ans.append(rotate_clockwise_90(ans[-1]))\n",
    "    \n",
    "    return ans\n",
    "\n",
    "def get_matrix_edges(matrix):\n",
    "    n = len(matrix)\n",
    "    return [''.join(matrix[0]), ''.join([matrix[i][-1] for i in range(n)]), ''.join(matrix[-1]), ''.join([matrix[i][0] for i in range(n)])]\n",
    "\n",
    "def puzzle_to_matrix(puzzle):\n",
    "    n = len(puzzle)\n",
    "    m = 8 * n\n",
    "    ans = [[] for _ in range(m)]\n",
    "    for i in range(m):\n",
    "        for j in range(m):\n",
    "            pi = i // 8\n",
    "            pj = j // 8\n",
    "            ans[i].append(puzzle[pi][pj][i % 8 + 1][j % 8 + 1])\n",
    "    return ans\n",
    "\n",
    "def count_monster(matrix):\n",
    "    total_sharps = 0\n",
    "    n = len(matrix)\n",
    "    for i in range(n):\n",
    "        for j in range(n):\n",
    "            if matrix[i][j] == '#':\n",
    "                total_sharps += 1\n",
    "    max_monster_count = 0\n",
    "    sharps, height, width = sea_monster()\n",
    "    for ori in all_oritentions(matrix):\n",
    "        monster_count = 0\n",
    "        for i in range(n-height):\n",
    "            for j in range(n-width):\n",
    "                is_monster = True\n",
    "                for di, dj in sharps:\n",
    "                    if ori[i+di][j+dj] != '#':\n",
    "                        is_monster = False\n",
    "                        break\n",
    "                if is_monster:\n",
    "                    monster_count += 1\n",
    "        max_monster_count = max(max_monster_count, monster_count)\n",
    "    return total_sharps - max_monster_count * len(sharps)\n",
    "        \n",
    "\n",
    "def part2(input_file):\n",
    "    corners, edge_to_tile_orient, tiles = find_corners(input_file)\n",
    "    assert all(len(x) <= 2 for x in edge_to_tile_orient.values())\n",
    "    m = int(np.sqrt(len(tiles)))\n",
    "    puzzle_ids = [[0] * m for _ in range(m)]\n",
    "    puzzle_ids[0][0] = corners[0]\n",
    "    puzzle= [[None] * m for _ in range(m)]\n",
    "    for i in range(m):\n",
    "        for j in range(m):\n",
    "            left, up = None, None\n",
    "            if i > 0:\n",
    "                up = get_matrix_edges(puzzle[i-1][j])[2]\n",
    "            if j > 0:\n",
    "                left = get_matrix_edges(puzzle[i][j-1])[1]\n",
    "            matrix = tile_to_matrix(tiles[puzzle_ids[i][j]])\n",
    "            found = False\n",
    "            for ori in all_oritentions(matrix):\n",
    "                edges = get_matrix_edges(ori)\n",
    "                if ((not left and len(edge_to_tile_orient[edges[3]])==1) or left == edges[3]) and ((not up and len(edge_to_tile_orient[edges[0]]) == 1) or up == edges[0]):\n",
    "                    found = True\n",
    "                    puzzle[i][j] = ori\n",
    "                    break\n",
    "            if not found:\n",
    "                raise ValueError(f'cannot find oritation in cell {i}, {j}')\n",
    "            edges = get_matrix_edges(puzzle[i][j])\n",
    "            if j < m-1 and not puzzle_ids[i][j+1]:\n",
    "                right = edges[1]\n",
    "                same_edge_tiles = edge_to_tile_orient[right]\n",
    "                if len(same_edge_tiles) != 2:\n",
    "                    raise ValueError(f'no same edge right: {i} {j}')\n",
    "                for k in range(2):\n",
    "                    if same_edge_tiles[k][0] != puzzle_ids[i][j]:\n",
    "                        puzzle_ids[i][j+1] = same_edge_tiles[k][0]\n",
    "                        break\n",
    "            if i < m - 1:\n",
    "                down = edges[2]\n",
    "                same_edge_tiles = edge_to_tile_orient[down]\n",
    "                if len(same_edge_tiles) != 2:\n",
    "                    raise ValueError(f'no same edge down: {i} {j}')\n",
    "                for k in range(2):\n",
    "                    if same_edge_tiles[k][0] != puzzle_ids[i][j]:\n",
    "                        puzzle_ids[i+1][j] = same_edge_tiles[k][0]\n",
    "                        break\n",
    "    # print(puzzle_ids)\n",
    "    puzzle_matrix = puzzle_to_matrix(puzzle)\n",
    "    # print_matrix(puzzle_matrix)    \n",
    "    return count_monster(puzzle_matrix)\n",
    "\n",
    "    \n",
    "    "
   ]
  },
  {
   "cell_type": "code",
   "execution_count": 57,
   "metadata": {},
   "outputs": [
    {
     "data": {
      "text/plain": [
       "(4006801655873, [1327, 1087, 2753, 1009])"
      ]
     },
     "execution_count": 57,
     "metadata": {},
     "output_type": "execute_result"
    }
   ],
   "source": [
    "part1('inputs/day20.txt')"
   ]
  },
  {
   "cell_type": "code",
   "execution_count": 35,
   "metadata": {},
   "outputs": [
    {
     "data": {
      "text/plain": [
       "(20899048083289, [1951, 1171, 2971, 3079])"
      ]
     },
     "execution_count": 35,
     "metadata": {},
     "output_type": "execute_result"
    }
   ],
   "source": [
    "part1('inputs/day20_test.txt')"
   ]
  },
  {
   "cell_type": "code",
   "execution_count": 87,
   "metadata": {},
   "outputs": [
    {
     "data": {
      "text/plain": [
       "273"
      ]
     },
     "execution_count": 87,
     "metadata": {},
     "output_type": "execute_result"
    }
   ],
   "source": [
    "part2('inputs/day20_test.txt')"
   ]
  },
  {
   "cell_type": "code",
   "execution_count": 88,
   "metadata": {},
   "outputs": [
    {
     "data": {
      "text/plain": [
       "1838"
      ]
     },
     "execution_count": 88,
     "metadata": {},
     "output_type": "execute_result"
    }
   ],
   "source": [
    "part2('inputs/day20.txt')"
   ]
  },
  {
   "cell_type": "code",
   "execution_count": 5,
   "metadata": {},
   "outputs": [
    {
     "data": {
      "text/plain": [
       "144"
      ]
     },
     "execution_count": 5,
     "metadata": {},
     "output_type": "execute_result"
    }
   ],
   "source": [
    "input = parse_input('inputs/day20.txt')\n",
    "len(input)"
   ]
  },
  {
   "cell_type": "code",
   "execution_count": null,
   "metadata": {},
   "outputs": [],
   "source": []
  }
 ],
 "metadata": {
  "kernelspec": {
   "display_name": "Test",
   "language": "python",
   "name": "python3"
  },
  "language_info": {
   "codemirror_mode": {
    "name": "ipython",
    "version": 3
   },
   "file_extension": ".py",
   "mimetype": "text/x-python",
   "name": "python",
   "nbconvert_exporter": "python",
   "pygments_lexer": "ipython3",
   "version": "3.12.2"
  }
 },
 "nbformat": 4,
 "nbformat_minor": 2
}
