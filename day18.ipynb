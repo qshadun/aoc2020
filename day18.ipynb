{
 "cells": [
  {
   "cell_type": "code",
   "execution_count": 10,
   "metadata": {},
   "outputs": [],
   "source": [
    "from utils import read_lines\n",
    "\n",
    "def calc(oprand1, oprand2, op):\n",
    "    if op == '+':\n",
    "        return oprand1 + oprand2\n",
    "    else:\n",
    "        return oprand1 * oprand2\n",
    "    \n",
    "def calc_line(line):\n",
    "    st = []\n",
    "    for c in line:\n",
    "        if c == ' ':\n",
    "            continue\n",
    "        elif '0' <= c <= '9':\n",
    "            num = int(c)\n",
    "            if st and st[-1] in ('+', '*'):\n",
    "                op = st.pop()\n",
    "                oprand1 = st.pop()\n",
    "                st.append(calc(oprand1, num, op))\n",
    "            else:\n",
    "                st.append(num)\n",
    "        elif c in ('+', '*'):\n",
    "            st.append(c)\n",
    "        elif c == '(':\n",
    "            st.append(c)\n",
    "        elif c == ')':\n",
    "            num = st.pop()\n",
    "            st.pop()\n",
    "            if st and st[-1] in ('+', '*'):\n",
    "                op = st.pop()\n",
    "                oprand1 = st.pop()\n",
    "                st.append(calc(oprand1, num, op))\n",
    "            else:\n",
    "                st.append(num)\n",
    "        else:\n",
    "            raise ValueError('illegal expression')\n",
    "    return st[0]\n",
    "    \n",
    "def part1(input_file):\n",
    "    ans = 0\n",
    "    for line in read_lines(input_file):\n",
    "        ans += calc_line(line)\n",
    "    return ans"
   ]
  },
  {
   "cell_type": "code",
   "execution_count": 9,
   "metadata": {},
   "outputs": [],
   "source": [
    "assert calc_line('1 + 2 * 3 + 4 * 5 + 6') == 71\n",
    "assert calc_line('1 + (2 * 3) + (4 * (5 + 6))') == 51\n",
    "assert calc_line('2 * 3 + (4 * 5)') == 26\n",
    "assert calc_line('5 + (8 * 3 + 9 + 3 * 4 * 3)') == 437\n",
    "assert calc_line('5 * 9 * (7 * 3 * 3 + 9 * 3 + (8 + 6 * 4))') == 12240\n",
    "assert calc_line('((2 + 4 * 9) * (6 + 9 * 8 + 6) + 6) + 2 + 4 * 2') == 13632"
   ]
  },
  {
   "cell_type": "code",
   "execution_count": 11,
   "metadata": {},
   "outputs": [
    {
     "data": {
      "text/plain": [
       "510009915468"
      ]
     },
     "execution_count": 11,
     "metadata": {},
     "output_type": "execute_result"
    }
   ],
   "source": [
    "part1('inputs/day18.txt')"
   ]
  },
  {
   "cell_type": "code",
   "execution_count": 22,
   "metadata": {},
   "outputs": [],
   "source": [
    "def calc_line2(line):\n",
    "    st = []\n",
    "    for c in line:\n",
    "        if c == ' ':\n",
    "            continue\n",
    "        elif '0' <= c <= '9':\n",
    "            num = int(c)\n",
    "            if st and st[-1] == '+':\n",
    "                op = st.pop()\n",
    "                oprand1 = st.pop()\n",
    "                st.append(calc(oprand1, num, op))\n",
    "            else:\n",
    "                st.append(num)\n",
    "        elif c in ('+', '*'):\n",
    "            st.append(c)\n",
    "        elif c == '(':\n",
    "            st.append(c)\n",
    "        elif c == ')':\n",
    "            num = st.pop()\n",
    "            while st[-1] != '(':\n",
    "                op = st.pop()\n",
    "                oprand1 = st.pop()\n",
    "                num = calc(oprand1, num, op)\n",
    "            st.pop()\n",
    "            if st and st[-1] == '+':\n",
    "                op = st.pop()\n",
    "                oprand1 = st.pop()\n",
    "                st.append(calc(oprand1, num, op))\n",
    "            else:\n",
    "                st.append(num)\n",
    "        else:\n",
    "            raise ValueError('illegal expression')\n",
    "    while len(st) > 1:\n",
    "        oprand2 = st.pop()\n",
    "        st.pop()\n",
    "        oprand1 = st.pop()\n",
    "        st.append(calc(oprand1, oprand2, '*'))\n",
    "    return st[0]\n",
    "    \n",
    "def part2(input_file):\n",
    "    ans = 0\n",
    "    for line in read_lines(input_file):\n",
    "        ans += calc_line2(line)\n",
    "    return ans"
   ]
  },
  {
   "cell_type": "code",
   "execution_count": 23,
   "metadata": {},
   "outputs": [],
   "source": [
    "assert calc_line2('1 + 2 * 3 + 4 * 5 + 6') == 231\n",
    "assert calc_line2('1 + (2 * 3) + (4 * (5 + 6))') == 51\n",
    "assert calc_line2('2 * 3 + (4 * 5)') == 46\n",
    "assert calc_line2('5 + (8 * 3 + 9 + 3 * 4 * 3)') == 1445\n",
    "assert calc_line2('5 * 9 * (7 * 3 * 3 + 9 * 3 + (8 + 6 * 4))') == 669060\n",
    "assert calc_line2('((2 + 4 * 9) * (6 + 9 * 8 + 6) + 6) + 2 + 4 * 2') == 23340"
   ]
  },
  {
   "cell_type": "code",
   "execution_count": 24,
   "metadata": {},
   "outputs": [
    {
     "data": {
      "text/plain": [
       "321176691637769"
      ]
     },
     "execution_count": 24,
     "metadata": {},
     "output_type": "execute_result"
    }
   ],
   "source": [
    "part2('inputs/day18.txt')"
   ]
  },
  {
   "cell_type": "code",
   "execution_count": null,
   "metadata": {},
   "outputs": [],
   "source": []
  }
 ],
 "metadata": {
  "kernelspec": {
   "display_name": "Test",
   "language": "python",
   "name": "python3"
  },
  "language_info": {
   "codemirror_mode": {
    "name": "ipython",
    "version": 3
   },
   "file_extension": ".py",
   "mimetype": "text/x-python",
   "name": "python",
   "nbconvert_exporter": "python",
   "pygments_lexer": "ipython3",
   "version": "3.12.2"
  }
 },
 "nbformat": 4,
 "nbformat_minor": 2
}
