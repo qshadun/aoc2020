{
 "cells": [
  {
   "cell_type": "code",
   "execution_count": 11,
   "metadata": {},
   "outputs": [],
   "source": [
    "from utils import read_lines\n",
    "\n",
    "def parse_input(input_file):\n",
    "    ans = []\n",
    "    for line in read_lines(input_file):\n",
    "        ans.append([c for c in line])\n",
    "    return ans\n",
    "\n",
    "deltas = [[-1, -1], [-1, 0], [-1, 1], [0, -1], [0, 1], [1, -1], [1, 0], [1, 1]]\n",
    "\n",
    "def count_occupied(matrix, i, j):\n",
    "    m = len(matrix)\n",
    "    n = len(matrix[0])\n",
    "    ans = 0\n",
    "    for di, dj in deltas:\n",
    "        ni, nj = i + di, j + dj\n",
    "        if 0 <= ni < m and 0 <= nj < n and matrix[ni][nj] == '#':\n",
    "            ans += 1\n",
    "    return ans\n",
    "\n",
    "def part1(input_file):\n",
    "    matrix = parse_input(input_file)\n",
    "    m = len(matrix)\n",
    "    n = len(matrix[0])\n",
    "    while True:\n",
    "        changed = False\n",
    "        new_matrix = [matrix[i][:] for i in range(m)]\n",
    "        for i in range(m):\n",
    "            for j in range(n):\n",
    "                if matrix[i][j] == 'L' and count_occupied(matrix, i, j) == 0:\n",
    "                    new_matrix[i][j] = '#'\n",
    "                    changed = True\n",
    "                elif matrix[i][j] == '#' and count_occupied(matrix, i, j) >= 4:\n",
    "                    new_matrix[i][j] = 'L'\n",
    "                    changed = True\n",
    "        if not changed:\n",
    "            break\n",
    "        matrix = new_matrix\n",
    "    ans = 0\n",
    "    for i in range(m):\n",
    "        for j in range(n):\n",
    "            if matrix[i][j] == '#':\n",
    "                ans += 1\n",
    "    return ans\n",
    "\n",
    "def count_occupied2(matrix, i, j):\n",
    "    m = len(matrix)\n",
    "    n = len(matrix[0])\n",
    "    ans = 0\n",
    "    for di, dj in deltas:\n",
    "        ni, nj = i + di, j + dj\n",
    "        \n",
    "        while 0 <= ni < m and 0 <= nj < n and matrix[ni][nj] == '.':\n",
    "            ni, nj = ni + di, nj + dj\n",
    "        if 0 <= ni < m and 0 <= nj < n and matrix[ni][nj] == '#':\n",
    "            ans += 1\n",
    "    return ans\n",
    "\n",
    "def part2(input_file):\n",
    "    matrix = parse_input(input_file)\n",
    "    m = len(matrix)\n",
    "    n = len(matrix[0])\n",
    "    while True:\n",
    "        changed = False\n",
    "        new_matrix = [matrix[i][:] for i in range(m)]\n",
    "        for i in range(m):\n",
    "            for j in range(n):\n",
    "                if matrix[i][j] == 'L' and count_occupied2(matrix, i, j) == 0:\n",
    "                    new_matrix[i][j] = '#'\n",
    "                    changed = True\n",
    "                elif matrix[i][j] == '#' and count_occupied2(matrix, i, j) >= 5:\n",
    "                    new_matrix[i][j] = 'L'\n",
    "                    changed = True\n",
    "        if not changed:\n",
    "            break\n",
    "        matrix = new_matrix\n",
    "    ans = 0\n",
    "    for i in range(m):\n",
    "        for j in range(n):\n",
    "            if matrix[i][j] == '#':\n",
    "                ans += 1\n",
    "    return ans"
   ]
  },
  {
   "cell_type": "code",
   "execution_count": 9,
   "metadata": {},
   "outputs": [
    {
     "data": {
      "text/plain": [
       "37"
      ]
     },
     "execution_count": 9,
     "metadata": {},
     "output_type": "execute_result"
    }
   ],
   "source": [
    "part1('inputs/day11_test.txt')"
   ]
  },
  {
   "cell_type": "code",
   "execution_count": 10,
   "metadata": {},
   "outputs": [
    {
     "data": {
      "text/plain": [
       "2238"
      ]
     },
     "execution_count": 10,
     "metadata": {},
     "output_type": "execute_result"
    }
   ],
   "source": [
    "part1('inputs/day11.txt')"
   ]
  },
  {
   "cell_type": "code",
   "execution_count": 12,
   "metadata": {},
   "outputs": [
    {
     "data": {
      "text/plain": [
       "26"
      ]
     },
     "execution_count": 12,
     "metadata": {},
     "output_type": "execute_result"
    }
   ],
   "source": [
    "part2('inputs/day11_test.txt')"
   ]
  },
  {
   "cell_type": "code",
   "execution_count": 13,
   "metadata": {},
   "outputs": [
    {
     "data": {
      "text/plain": [
       "2013"
      ]
     },
     "execution_count": 13,
     "metadata": {},
     "output_type": "execute_result"
    }
   ],
   "source": [
    "part2('inputs/day11.txt')"
   ]
  },
  {
   "cell_type": "code",
   "execution_count": null,
   "metadata": {},
   "outputs": [],
   "source": []
  }
 ],
 "metadata": {
  "kernelspec": {
   "display_name": "Test",
   "language": "python",
   "name": "python3"
  },
  "language_info": {
   "codemirror_mode": {
    "name": "ipython",
    "version": 3
   },
   "file_extension": ".py",
   "mimetype": "text/x-python",
   "name": "python",
   "nbconvert_exporter": "python",
   "pygments_lexer": "ipython3",
   "version": "3.12.2"
  }
 },
 "nbformat": 4,
 "nbformat_minor": 2
}
