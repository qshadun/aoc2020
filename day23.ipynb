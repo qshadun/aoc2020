{
 "cells": [
  {
   "cell_type": "code",
   "execution_count": 48,
   "metadata": {},
   "outputs": [],
   "source": [
    "class Node:\n",
    "    def __init__(self, val, next=None):\n",
    "        self.val = val\n",
    "        self.next = next\n",
    "\n",
    "    def __repr__(self):\n",
    "        ans = [str(self.val)]\n",
    "        node = self.next\n",
    "        while node and node is not self:\n",
    "            ans.append(str(node.val))\n",
    "            node = node.next\n",
    "        return ''.join(ans)\n",
    "\n",
    "test_input = '389125467'\n",
    "\n",
    "input = '853192647'\n",
    "\n",
    "def parse_input(s):\n",
    "    dummy = Node(0)\n",
    "    node = dummy\n",
    "    for c in s:\n",
    "        node.next = Node(int(c))\n",
    "        node = node.next\n",
    "    \n",
    "    head = dummy.next\n",
    "    node.next = head\n",
    "    return head\n",
    "\n",
    "def down(val, max_val):\n",
    "    return val - 1 if val > 1 else max_val\n",
    "\n",
    "def move(current, round, max_val=9):\n",
    "    \n",
    "    for _ in range(round):\n",
    "        pick_up = current.next\n",
    "        pick_up_vals = [current.next.val, current.next.next.val, current.next.next.next.val]\n",
    "        current.next = current.next.next.next.next\n",
    "        dest = down(current.val, max_val)\n",
    "        while dest in pick_up_vals:\n",
    "            dest = down(dest, max_val)\n",
    "        dest_node = current.next\n",
    "        while dest_node.val != dest:\n",
    "            dest_node = dest_node.next\n",
    "        pick_up.next.next.next = dest_node.next\n",
    "        dest_node.next = pick_up\n",
    "        current = current.next\n",
    "\n",
    "    return current\n",
    "\n",
    "def part1(s):\n",
    "    current = parse_input(s)\n",
    "    node = move(current, 100)\n",
    "    ans = []\n",
    "    while node.val != 1:\n",
    "        node= node.next\n",
    "    node = node.next\n",
    "    while node.val != 1:\n",
    "        ans.append(str(node.val))\n",
    "        node = node.next\n",
    "    return int(''.join(ans))\n",
    "\n",
    "def parse_input2(s):\n",
    "    dummy = Node(0)\n",
    "    node = dummy\n",
    "    v2n = [None] * (10**6 + 1)\n",
    "    for c in s:\n",
    "        node.next = Node(int(c))\n",
    "        node = node.next\n",
    "        v2n[int(c)] = node\n",
    "    for num in range(10, 10**6+1):\n",
    "        node.next = Node(num)\n",
    "        node = node.next\n",
    "        v2n[num] = node\n",
    "    head = dummy.next\n",
    "    node.next = head\n",
    "    return head, v2n\n",
    "\n",
    "def move2(current, round, v2n, max_val=10**6):\n",
    "    \n",
    "    for _ in range(round):\n",
    "        pick_up = current.next\n",
    "        pick_up_vals = [current.next.val, current.next.next.val, current.next.next.next.val]\n",
    "        current.next = current.next.next.next.next\n",
    "        dest = down(current.val, max_val)\n",
    "        while dest in pick_up_vals:\n",
    "            dest = down(dest, max_val)\n",
    "        dest_node = v2n[dest]\n",
    "        pick_up.next.next.next = dest_node.next\n",
    "        dest_node.next = pick_up\n",
    "        current = current.next\n",
    "\n",
    "    return current\n",
    "\n",
    "def part2(s):\n",
    "    current, v2n = parse_input2(s)\n",
    "    move2(current, 10**7, v2n, max_val=10**6)\n",
    "    node_one = v2n[1]\n",
    "    return node_one.next.val * node_one.next.next.val\n"
   ]
  },
  {
   "cell_type": "code",
   "execution_count": 38,
   "metadata": {},
   "outputs": [
    {
     "data": {
      "text/plain": [
       "67384529"
      ]
     },
     "execution_count": 38,
     "metadata": {},
     "output_type": "execute_result"
    }
   ],
   "source": [
    "part1(test_input)"
   ]
  },
  {
   "cell_type": "code",
   "execution_count": 44,
   "metadata": {},
   "outputs": [
    {
     "data": {
      "text/plain": [
       "97624853"
      ]
     },
     "execution_count": 44,
     "metadata": {},
     "output_type": "execute_result"
    }
   ],
   "source": [
    "part1(input)"
   ]
  },
  {
   "cell_type": "code",
   "execution_count": 49,
   "metadata": {},
   "outputs": [
    {
     "data": {
      "text/plain": [
       "149245887792"
      ]
     },
     "execution_count": 49,
     "metadata": {},
     "output_type": "execute_result"
    }
   ],
   "source": [
    "part2(test_input)"
   ]
  },
  {
   "cell_type": "code",
   "execution_count": 50,
   "metadata": {},
   "outputs": [
    {
     "data": {
      "text/plain": [
       "664642452305"
      ]
     },
     "execution_count": 50,
     "metadata": {},
     "output_type": "execute_result"
    }
   ],
   "source": [
    "part2(input)"
   ]
  },
  {
   "cell_type": "code",
   "execution_count": null,
   "metadata": {},
   "outputs": [],
   "source": []
  }
 ],
 "metadata": {
  "kernelspec": {
   "display_name": "Test",
   "language": "python",
   "name": "python3"
  },
  "language_info": {
   "codemirror_mode": {
    "name": "ipython",
    "version": 3
   },
   "file_extension": ".py",
   "mimetype": "text/x-python",
   "name": "python",
   "nbconvert_exporter": "python",
   "pygments_lexer": "ipython3",
   "version": "3.12.2"
  }
 },
 "nbformat": 4,
 "nbformat_minor": 2
}
