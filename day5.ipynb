{
 "cells": [
  {
   "cell_type": "code",
   "execution_count": 7,
   "metadata": {},
   "outputs": [],
   "source": [
    "from utils import read_lines\n",
    "\n",
    "def parse_seat(s):\n",
    "    row = s[:7].replace('F', '0').replace('B', '1')\n",
    "    row = int(row, 2)\n",
    "    col = s[7:].replace('L', '0').replace('R', '1')\n",
    "    col = int(col, 2)\n",
    "    return row * 8 + col\n",
    "\n",
    "def part1(input_file):\n",
    "    ans = 0\n",
    "    for line in read_lines(input_file):\n",
    "        ans = max(ans, parse_seat(line))\n",
    "    return ans\n",
    "\n",
    "def part2(input_file):\n",
    "    all_ids = []\n",
    "    for line in read_lines(input_file):\n",
    "        all_ids.append(parse_seat(line))\n",
    "    all_ids.sort()\n",
    "    for i in range(len(all_ids) - 1):\n",
    "        if all_ids[i] + 1 < all_ids[i+1]:\n",
    "            return all_ids[i] + 1\n",
    "    return all_ids[-1]\n"
   ]
  },
  {
   "cell_type": "code",
   "execution_count": 4,
   "metadata": {},
   "outputs": [],
   "source": [
    "assert parse_seat('FBFBBFFRLR') == 357\n",
    "assert parse_seat('BFFFBBFRRR') == 567\n",
    "assert parse_seat('FFFBBBFRRR') == 119\n",
    "assert parse_seat('BBFFBBFRLL') == 820"
   ]
  },
  {
   "cell_type": "code",
   "execution_count": 6,
   "metadata": {},
   "outputs": [
    {
     "data": {
      "text/plain": [
       "959"
      ]
     },
     "execution_count": 6,
     "metadata": {},
     "output_type": "execute_result"
    }
   ],
   "source": [
    "part1('inputs/day5.txt')"
   ]
  },
  {
   "cell_type": "code",
   "execution_count": 8,
   "metadata": {},
   "outputs": [
    {
     "data": {
      "text/plain": [
       "527"
      ]
     },
     "execution_count": 8,
     "metadata": {},
     "output_type": "execute_result"
    }
   ],
   "source": [
    "part2('inputs/day5.txt')"
   ]
  },
  {
   "cell_type": "code",
   "execution_count": null,
   "metadata": {},
   "outputs": [],
   "source": []
  }
 ],
 "metadata": {
  "kernelspec": {
   "display_name": "Test",
   "language": "python",
   "name": "python3"
  },
  "language_info": {
   "codemirror_mode": {
    "name": "ipython",
    "version": 3
   },
   "file_extension": ".py",
   "mimetype": "text/x-python",
   "name": "python",
   "nbconvert_exporter": "python",
   "pygments_lexer": "ipython3",
   "version": "3.12.2"
  }
 },
 "nbformat": 4,
 "nbformat_minor": 2
}
