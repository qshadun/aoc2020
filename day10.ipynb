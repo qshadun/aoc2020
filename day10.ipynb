{
 "cells": [
  {
   "cell_type": "code",
   "execution_count": 10,
   "metadata": {},
   "outputs": [],
   "source": [
    "from utils import read_lines\n",
    "from functools import cache\n",
    "\n",
    "def part1(input_file):\n",
    "    nums = [int(line) for line in read_lines(input_file)]\n",
    "    nums.sort()\n",
    "    ones, threes = 1, 1\n",
    "    for i in range(len(nums) - 1):\n",
    "        if nums[i + 1] - nums[i] == 1:\n",
    "            ones += 1\n",
    "        else:\n",
    "            threes += 1\n",
    "    return ones, threes, ones * threes\n",
    "\n",
    "def part2(input_file):\n",
    "    nums = [int(line) for line in read_lines(input_file)]\n",
    "    nums.sort()\n",
    "    nums = [0] + nums\n",
    "    n = len(nums)\n",
    "    @cache\n",
    "    def dp(i):\n",
    "        if i == n - 1:\n",
    "            return 1\n",
    "        ans = dp(i + 1)\n",
    "        if i + 2 < n and nums[i] + 3 >= nums[i + 2]:\n",
    "            ans += dp(i + 2)\n",
    "        if i + 3 < n and nums[i] + 3 >= nums[i + 3]:\n",
    "            ans += dp(i + 3)\n",
    "        return ans\n",
    "    return dp(0)\n",
    "        "
   ]
  },
  {
   "cell_type": "code",
   "execution_count": 7,
   "metadata": {},
   "outputs": [
    {
     "data": {
      "text/plain": [
       "(22, 10, 220)"
      ]
     },
     "execution_count": 7,
     "metadata": {},
     "output_type": "execute_result"
    }
   ],
   "source": [
    "part1('inputs/day10_test.txt')"
   ]
  },
  {
   "cell_type": "code",
   "execution_count": 8,
   "metadata": {},
   "outputs": [
    {
     "data": {
      "text/plain": [
       "(66, 29, 1914)"
      ]
     },
     "execution_count": 8,
     "metadata": {},
     "output_type": "execute_result"
    }
   ],
   "source": [
    "part1('inputs/day10.txt')"
   ]
  },
  {
   "cell_type": "code",
   "execution_count": 11,
   "metadata": {},
   "outputs": [
    {
     "data": {
      "text/plain": [
       "19208"
      ]
     },
     "execution_count": 11,
     "metadata": {},
     "output_type": "execute_result"
    }
   ],
   "source": [
    "part2('inputs/day10_test.txt')"
   ]
  },
  {
   "cell_type": "code",
   "execution_count": 12,
   "metadata": {},
   "outputs": [
    {
     "data": {
      "text/plain": [
       "9256148959232"
      ]
     },
     "execution_count": 12,
     "metadata": {},
     "output_type": "execute_result"
    }
   ],
   "source": [
    "part2('inputs/day10.txt')"
   ]
  },
  {
   "cell_type": "code",
   "execution_count": null,
   "metadata": {},
   "outputs": [],
   "source": []
  }
 ],
 "metadata": {
  "kernelspec": {
   "display_name": "Test",
   "language": "python",
   "name": "python3"
  },
  "language_info": {
   "codemirror_mode": {
    "name": "ipython",
    "version": 3
   },
   "file_extension": ".py",
   "mimetype": "text/x-python",
   "name": "python",
   "nbconvert_exporter": "python",
   "pygments_lexer": "ipython3",
   "version": "3.12.2"
  }
 },
 "nbformat": 4,
 "nbformat_minor": 2
}
