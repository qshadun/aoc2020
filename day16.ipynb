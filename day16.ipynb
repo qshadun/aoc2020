{
 "cells": [
  {
   "cell_type": "code",
   "execution_count": 21,
   "metadata": {},
   "outputs": [],
   "source": [
    "from utils import read_lines\n",
    "from collections import defaultdict, deque\n",
    "import re\n",
    "regex = re.compile(r'.*: (\\d+)-(\\d+) or (\\d+)-(\\d+)')\n",
    "\n",
    "\n",
    "def parse_input(input_file):\n",
    "    lines = read_lines(input_file)\n",
    "    i = 0\n",
    "    rules = []\n",
    "    while lines[i]:\n",
    "        m = re.match(regex, lines[i])\n",
    "        m.groups()\n",
    "        rules.append([int(x) for x in m.groups()])\n",
    "        i += 1\n",
    "    i += 2\n",
    "    my_ticket = [int(x) for x in lines[i].split(',')]\n",
    "\n",
    "    i += 3\n",
    "    nearby_tickets = []\n",
    "    while i < len(lines):\n",
    "        nearby_tickets.append([int(x) for x in lines[i].split(',')])\n",
    "        i += 1\n",
    "    return rules, my_ticket, nearby_tickets\n",
    "\n",
    "def check_valid(num, rules):\n",
    "    for a, b, c, d in rules:\n",
    "        if a <= num <= b or c <= num <= d:\n",
    "            return True\n",
    "    return False\n",
    "\n",
    "def part1(input_file):\n",
    "    rules, my_ticket, nearby_tickets = parse_input(input_file)\n",
    "    ans = 0\n",
    "    for ticket in nearby_tickets:\n",
    "        for num in ticket:\n",
    "            if not check_valid(num, rules):\n",
    "                ans += num\n",
    "    return ans\n",
    "\n",
    "def filter_tickets(nearby_tickets, rules):\n",
    "    valid_tickets = []\n",
    "    for ticket in nearby_tickets:\n",
    "        is_valid = True\n",
    "        for num in ticket:\n",
    "            if not check_valid(num, rules):\n",
    "                is_valid = False\n",
    "                break\n",
    "        if is_valid:\n",
    "            valid_tickets.append(ticket)\n",
    "    return valid_tickets\n",
    "\n",
    "\n",
    "def part2(input_file):\n",
    "    rules, my_ticket, nearby_tickets = parse_input(input_file)\n",
    "    valid_tickets = filter_tickets(nearby_tickets, rules)\n",
    "    n = len(rules)\n",
    "    possible_indexes = defaultdict(set)\n",
    "    for ri, (a, b, c, d) in enumerate(rules):\n",
    "        for i in range(n):\n",
    "            is_valid = True\n",
    "            for j in range(len(valid_tickets)):\n",
    "                if not (a <= valid_tickets[j][i] <= b or c <= valid_tickets[j][i] <= d):\n",
    "                    is_valid = False\n",
    "                    break\n",
    "            if is_valid:\n",
    "                possible_indexes[ri].add(i)\n",
    "    field_to_idx = {}\n",
    "    q = deque()\n",
    "    for i, ps in possible_indexes.items():\n",
    "        if len(ps) == 1:\n",
    "            field_to_idx[i] = next(iter(ps))\n",
    "            q.append(i)\n",
    "    while q:\n",
    "        i = q.popleft()\n",
    "        idx = field_to_idx[i]\n",
    "        for ri, ps in possible_indexes.items():\n",
    "            if ri != i and idx in ps:\n",
    "                ps.remove(idx)\n",
    "                if len(ps) == 1:\n",
    "                    field_to_idx[ri] = next(iter(ps))\n",
    "                    q.append(ri)\n",
    "    ans = 1\n",
    "    for i in range(6):\n",
    "        ans *= my_ticket[field_to_idx[i]]\n",
    "    return ans\n"
   ]
  },
  {
   "cell_type": "code",
   "execution_count": 16,
   "metadata": {},
   "outputs": [
    {
     "data": {
      "text/plain": [
       "71"
      ]
     },
     "execution_count": 16,
     "metadata": {},
     "output_type": "execute_result"
    }
   ],
   "source": [
    "part1('inputs/day16_test.txt')"
   ]
  },
  {
   "cell_type": "code",
   "execution_count": 17,
   "metadata": {},
   "outputs": [
    {
     "data": {
      "text/plain": [
       "25972"
      ]
     },
     "execution_count": 17,
     "metadata": {},
     "output_type": "execute_result"
    }
   ],
   "source": [
    "part1('inputs/day16.txt')"
   ]
  },
  {
   "cell_type": "code",
   "execution_count": 22,
   "metadata": {},
   "outputs": [
    {
     "data": {
      "text/plain": [
       "622670335901"
      ]
     },
     "execution_count": 22,
     "metadata": {},
     "output_type": "execute_result"
    }
   ],
   "source": [
    "part2('inputs/day16.txt')"
   ]
  },
  {
   "cell_type": "code",
   "execution_count": null,
   "metadata": {},
   "outputs": [],
   "source": []
  }
 ],
 "metadata": {
  "kernelspec": {
   "display_name": "Test",
   "language": "python",
   "name": "python3"
  },
  "language_info": {
   "codemirror_mode": {
    "name": "ipython",
    "version": 3
   },
   "file_extension": ".py",
   "mimetype": "text/x-python",
   "name": "python",
   "nbconvert_exporter": "python",
   "pygments_lexer": "ipython3",
   "version": "3.12.2"
  }
 },
 "nbformat": 4,
 "nbformat_minor": 2
}
