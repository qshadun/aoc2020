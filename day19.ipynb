{
 "cells": [
  {
   "cell_type": "code",
   "execution_count": 24,
   "metadata": {},
   "outputs": [],
   "source": [
    "from utils import read_lines\n",
    "\n",
    "class Rule:\n",
    "    def __init__(self, rid, fix=None, rule1=None, rule2=None):\n",
    "        self.rid = rid\n",
    "        self.fix = fix\n",
    "        self.rule1= rule1\n",
    "        self.rule2 = rule2\n",
    "    \n",
    "    def __repr__(self):\n",
    "        return f'Rule({self.rid=}, {self.fix=}, {self.rule1=}, {self.rule2=})'\n",
    "    \n",
    "\n",
    "def parse_rule(line):\n",
    "    rid, rules = line.split(': ')\n",
    "    rid = int(rid)\n",
    "    if '\"' in rules:\n",
    "        return Rule(rid, fix=rules[1])\n",
    "    rules = rules.split(' | ')\n",
    "    if len(rules) == 2:\n",
    "        rule1 = [int(r) for r in rules[0].split(' ')]\n",
    "        rule2 = [int(r) for r in rules[1].split(' ')]\n",
    "        return Rule(rid, rule1=rule1, rule2=rule2)\n",
    "    else:\n",
    "        rule1 = [int(r) for r in rules[0].split(' ')]\n",
    "        return Rule(rid, rule1=rule1)\n",
    "\n",
    "def parse_input(input_file):\n",
    "    lines = read_lines(input_file)\n",
    "    i = 0\n",
    "    rules = {}\n",
    "    while lines[i]:   \n",
    "        rule = parse_rule(lines[i])\n",
    "        rules[rule.rid] = rule\n",
    "        i += 1\n",
    "    \n",
    "    return rules, lines[i+1:]\n",
    "\n",
    "def part1(input_file):\n",
    "    rules, messages = parse_input(input_file)\n",
    "    valid_set = {}\n",
    "    \n",
    "    def dfs(rid):\n",
    "        if rid in valid_set:\n",
    "            return valid_set[rid]\n",
    "        rule = rules[rid]\n",
    "        if rule.fix:\n",
    "            valid_set[rid] = set([rule.fix])\n",
    "            return valid_set[rid]\n",
    "        ss = set([''])\n",
    "        for partial_rid in rule.rule1:\n",
    "            new_ss = set()\n",
    "            for prefix in ss:\n",
    "                for partial in dfs(partial_rid):\n",
    "                    new_ss.add(prefix+partial)\n",
    "            ss = new_ss\n",
    "        if rule.rule2:\n",
    "            ss2 = set([''])\n",
    "            for partial_rid in rule.rule2:\n",
    "                new_ss = set()\n",
    "                for prefix in ss2:\n",
    "                    for partial in dfs(partial_rid):\n",
    "                        new_ss.add(prefix+partial)\n",
    "                ss2 = new_ss\n",
    "            ss = ss.union(ss2)\n",
    "        valid_set[rid] = ss\n",
    "        return ss\n",
    "    \n",
    "    valid0 = dfs(0)\n",
    "    ans = 0\n",
    "    for m in messages:\n",
    "        if m in valid0:\n",
    "            ans += 1\n",
    "    return ans"
   ]
  },
  {
   "cell_type": "code",
   "execution_count": 25,
   "metadata": {},
   "outputs": [
    {
     "data": {
      "text/plain": [
       "2"
      ]
     },
     "execution_count": 25,
     "metadata": {},
     "output_type": "execute_result"
    }
   ],
   "source": [
    "part1('inputs/day19_test.txt')"
   ]
  },
  {
   "cell_type": "code",
   "execution_count": 26,
   "metadata": {},
   "outputs": [
    {
     "data": {
      "text/plain": [
       "129"
      ]
     },
     "execution_count": 26,
     "metadata": {},
     "output_type": "execute_result"
    }
   ],
   "source": [
    "part1('inputs/day19.txt')"
   ]
  },
  {
   "cell_type": "code",
   "execution_count": 50,
   "metadata": {},
   "outputs": [],
   "source": [
    "def part2(input_file):\n",
    "    rules, messages = parse_input(input_file)\n",
    "    valid_set = {}\n",
    "    \n",
    "    def dfs(rid):\n",
    "        if rid in valid_set:\n",
    "            return valid_set[rid]\n",
    "        rule = rules[rid]\n",
    "        if rule.fix:\n",
    "            valid_set[rid] = set([rule.fix])\n",
    "            return valid_set[rid]\n",
    "        ss = set([''])\n",
    "        for partial_rid in rule.rule1:\n",
    "            new_ss = set()\n",
    "            for prefix in ss:\n",
    "                for partial in dfs(partial_rid):\n",
    "                    new_ss.add(prefix+partial)\n",
    "            ss = new_ss\n",
    "        if rule.rule2:\n",
    "            ss2 = set([''])\n",
    "            for partial_rid in rule.rule2:\n",
    "                new_ss = set()\n",
    "                for prefix in ss2:\n",
    "                    for partial in dfs(partial_rid):\n",
    "                        new_ss.add(prefix+partial)\n",
    "                ss2 = new_ss\n",
    "            ss = ss.union(ss2)\n",
    "        valid_set[rid] = ss\n",
    "        return ss\n",
    "    \n",
    "    dfs(0)\n",
    "    valid42 = valid_set[42]\n",
    "    valid31 = valid_set[31]\n",
    "    len42 = len(next(iter(valid42)))\n",
    "    len31 = len(next(iter(valid31)))\n",
    "\n",
    "    ans = 0\n",
    "    for m in messages:\n",
    "        cnt42 = 0\n",
    "        cnt31 = 0\n",
    "        i = 0\n",
    "        while i < len(m):\n",
    "            if m[i:i+len42] in valid42:\n",
    "                cnt42 += 1\n",
    "                i += len42\n",
    "            else:\n",
    "                break\n",
    "        while i < len(m):\n",
    "            if m[i:i+len31] in valid31:\n",
    "                cnt31 += 1\n",
    "                i += len31\n",
    "            else:\n",
    "                break\n",
    "        if i != len(m):\n",
    "            continue\n",
    "        if cnt42 > cnt31 and cnt31 > 0:\n",
    "            ans += 1\n",
    "            # print(m)\n",
    "    return ans"
   ]
  },
  {
   "cell_type": "code",
   "execution_count": 51,
   "metadata": {},
   "outputs": [
    {
     "data": {
      "text/plain": [
       "12"
      ]
     },
     "execution_count": 51,
     "metadata": {},
     "output_type": "execute_result"
    }
   ],
   "source": [
    "part2('inputs/day19_test2.txt')"
   ]
  },
  {
   "cell_type": "code",
   "execution_count": 52,
   "metadata": {},
   "outputs": [
    {
     "data": {
      "text/plain": [
       "243"
      ]
     },
     "execution_count": 52,
     "metadata": {},
     "output_type": "execute_result"
    }
   ],
   "source": [
    "part2('inputs/day19.txt')"
   ]
  },
  {
   "cell_type": "code",
   "execution_count": null,
   "metadata": {},
   "outputs": [],
   "source": []
  }
 ],
 "metadata": {
  "kernelspec": {
   "display_name": "Test",
   "language": "python",
   "name": "python3"
  },
  "language_info": {
   "codemirror_mode": {
    "name": "ipython",
    "version": 3
   },
   "file_extension": ".py",
   "mimetype": "text/x-python",
   "name": "python",
   "nbconvert_exporter": "python",
   "pygments_lexer": "ipython3",
   "version": "3.12.2"
  }
 },
 "nbformat": 4,
 "nbformat_minor": 2
}
