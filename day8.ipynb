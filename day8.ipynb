{
 "cells": [
  {
   "cell_type": "code",
   "execution_count": 7,
   "metadata": {},
   "outputs": [],
   "source": [
    "from utils import read_lines\n",
    "\n",
    "def part1(input_file):\n",
    "    lines = read_lines(input_file)\n",
    "    instructions = []\n",
    "    for line in lines:\n",
    "        cmd, value = line.split(' ')\n",
    "        instructions.append((cmd, int(value)))\n",
    "    visited = set()\n",
    "    pos = 0\n",
    "    acc = 0\n",
    "    while pos not in visited:\n",
    "        cmd, value = instructions[pos]\n",
    "        visited.add(pos)\n",
    "        match cmd:\n",
    "            case 'acc':\n",
    "                acc += value\n",
    "                pos += 1\n",
    "            case 'nop':\n",
    "                pos += 1\n",
    "            case 'jmp':\n",
    "                pos += value\n",
    "            case _:\n",
    "                raise ValueError(f'illegal cmd {cmd}')\n",
    "    return acc\n",
    "\n",
    "def boost(instructions):\n",
    "    visited = set()\n",
    "    pos = 0\n",
    "    acc = 0\n",
    "    while pos not in visited and pos != len(instructions):\n",
    "        cmd, value = instructions[pos]\n",
    "        visited.add(pos)\n",
    "        match cmd:\n",
    "            case 'acc':\n",
    "                acc += value\n",
    "                pos += 1\n",
    "            case 'nop':\n",
    "                pos += 1\n",
    "            case 'jmp':\n",
    "                pos += value\n",
    "            case _:\n",
    "                raise ValueError(f'illegal cmd {cmd}')\n",
    "    return pos == len(instructions), acc\n",
    "\n",
    "def part2(input_file):\n",
    "    lines = read_lines(input_file)\n",
    "    instructions = []\n",
    "    for line in lines:\n",
    "        cmd, value = line.split(' ')\n",
    "        instructions.append((cmd, int(value)))\n",
    "    for i, (cmd, value) in enumerate(instructions):\n",
    "        if cmd == 'acc':\n",
    "            continue\n",
    "        if cmd == 'nop':\n",
    "            new_instructions = instructions[:i] + [('jmp', value)] + instructions[i+1:]\n",
    "        else:\n",
    "            new_instructions = instructions[:i] + [('nop', value)] + instructions[i+1:]\n",
    "        finish, acc = boost(new_instructions)\n",
    "        if finish:\n",
    "            return acc\n"
   ]
  },
  {
   "cell_type": "code",
   "execution_count": 5,
   "metadata": {},
   "outputs": [
    {
     "data": {
      "text/plain": [
       "5"
      ]
     },
     "execution_count": 5,
     "metadata": {},
     "output_type": "execute_result"
    }
   ],
   "source": [
    "part1('inputs/day8_test.txt')"
   ]
  },
  {
   "cell_type": "code",
   "execution_count": 6,
   "metadata": {},
   "outputs": [
    {
     "data": {
      "text/plain": [
       "1654"
      ]
     },
     "execution_count": 6,
     "metadata": {},
     "output_type": "execute_result"
    }
   ],
   "source": [
    "part1('inputs/day8.txt')"
   ]
  },
  {
   "cell_type": "code",
   "execution_count": 8,
   "metadata": {},
   "outputs": [
    {
     "data": {
      "text/plain": [
       "8"
      ]
     },
     "execution_count": 8,
     "metadata": {},
     "output_type": "execute_result"
    }
   ],
   "source": [
    "part2('inputs/day8_test.txt')"
   ]
  },
  {
   "cell_type": "code",
   "execution_count": 9,
   "metadata": {},
   "outputs": [
    {
     "data": {
      "text/plain": [
       "833"
      ]
     },
     "execution_count": 9,
     "metadata": {},
     "output_type": "execute_result"
    }
   ],
   "source": [
    "part2('inputs/day8.txt')"
   ]
  },
  {
   "cell_type": "code",
   "execution_count": null,
   "metadata": {},
   "outputs": [],
   "source": []
  }
 ],
 "metadata": {
  "kernelspec": {
   "display_name": "Test",
   "language": "python",
   "name": "python3"
  },
  "language_info": {
   "codemirror_mode": {
    "name": "ipython",
    "version": 3
   },
   "file_extension": ".py",
   "mimetype": "text/x-python",
   "name": "python",
   "nbconvert_exporter": "python",
   "pygments_lexer": "ipython3",
   "version": "3.12.2"
  }
 },
 "nbformat": 4,
 "nbformat_minor": 2
}
