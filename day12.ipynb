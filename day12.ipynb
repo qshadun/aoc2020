{
 "cells": [
  {
   "cell_type": "code",
   "execution_count": 35,
   "metadata": {},
   "outputs": [],
   "source": [
    "from utils import read_lines\n",
    "\n",
    "from enum import Enum\n",
    "\n",
    "class Direction(Enum):\n",
    "    North = 1\n",
    "    South = 2\n",
    "    East = 3\n",
    "    West = 4\n",
    "\n",
    "def parse_input(input_file):\n",
    "    ans = []\n",
    "    for line in read_lines(input_file):\n",
    "        ans.append((line[0],  int(line[1:])))\n",
    "    return ans\n",
    "\n",
    "def l_turn(direction: Direction, degree):\n",
    "    match direction:\n",
    "        case Direction.East:\n",
    "            match degree:\n",
    "                case 90:\n",
    "                    return Direction.North\n",
    "                case 180:\n",
    "                    return Direction.West\n",
    "                case 270:\n",
    "                    return Direction.South\n",
    "        case Direction.West:\n",
    "            match degree:\n",
    "                case 90:\n",
    "                    return Direction.South\n",
    "                case 180:\n",
    "                    return Direction.East\n",
    "                case 270:\n",
    "                    return Direction.North\n",
    "        case Direction.North:\n",
    "            match degree:\n",
    "                case 90:\n",
    "                    return Direction.West\n",
    "                case 180:\n",
    "                    return Direction.South\n",
    "                case 270:\n",
    "                    return Direction.East\n",
    "        case Direction.South:\n",
    "            match degree:\n",
    "                case 90:\n",
    "                    return Direction.East\n",
    "                case 180:\n",
    "                    return Direction.North\n",
    "                case 270:\n",
    "                    return Direction.West\n",
    "\n",
    "def r_turn(direction: Direction, degree):\n",
    "    match direction:\n",
    "        case Direction.East:\n",
    "            match degree:\n",
    "                case 90:\n",
    "                    return Direction.South\n",
    "                case 180:\n",
    "                    return Direction.West\n",
    "                case 270:\n",
    "                    return Direction.North\n",
    "        case Direction.West:\n",
    "            match degree:\n",
    "                case 90:\n",
    "                    return Direction.North\n",
    "                case 180:\n",
    "                    return Direction.East\n",
    "                case 270:\n",
    "                    return Direction.South\n",
    "        case Direction.North:\n",
    "            match degree:\n",
    "                case 90:\n",
    "                    return Direction.East\n",
    "                case 180:\n",
    "                    return Direction.South\n",
    "                case 270:\n",
    "                    return Direction.West\n",
    "        case Direction.South:\n",
    "            match degree:\n",
    "                case 90:\n",
    "                    return Direction.West\n",
    "                case 180:\n",
    "                    return Direction.North\n",
    "                case 270:\n",
    "                    return Direction.East\n",
    "\n",
    "def forward(direction: Direction, steps, x, y):\n",
    "    match direction:\n",
    "        case Direction.East:\n",
    "            x += steps\n",
    "        case Direction.West:\n",
    "            x -= steps\n",
    "        case Direction.North:\n",
    "            y += steps\n",
    "        case Direction.South:\n",
    "            y -= steps\n",
    "    return x, y\n",
    "\n",
    "\n",
    "\n",
    "def part1(input_file):\n",
    "    actions = parse_input(input_file)\n",
    "    direction, x, y = Direction.East, 0, 0\n",
    "    for action, steps in actions:\n",
    "        match action:\n",
    "            case 'N':\n",
    "                x, y = forward(Direction.North, steps, x, y)\n",
    "            case 'S':\n",
    "                x, y = forward(Direction.South, steps, x, y)\n",
    "            case 'E':\n",
    "                x, y = forward(Direction.East, steps, x, y)\n",
    "            case 'W':\n",
    "                x, y = forward(Direction.West, steps, x, y)\n",
    "            case 'L':\n",
    "                direction = l_turn(direction, steps)\n",
    "            case 'R':\n",
    "                direction = r_turn(direction, steps)\n",
    "            case 'F':\n",
    "                x, y = forward(direction, steps, x, y)\n",
    "    return abs(x) + abs(y)\n"
   ]
  },
  {
   "cell_type": "code",
   "execution_count": 36,
   "metadata": {},
   "outputs": [
    {
     "data": {
      "text/plain": [
       "25"
      ]
     },
     "execution_count": 36,
     "metadata": {},
     "output_type": "execute_result"
    }
   ],
   "source": [
    "part1('inputs/day12_test.txt')"
   ]
  },
  {
   "cell_type": "code",
   "execution_count": 37,
   "metadata": {},
   "outputs": [
    {
     "data": {
      "text/plain": [
       "562"
      ]
     },
     "execution_count": 37,
     "metadata": {},
     "output_type": "execute_result"
    }
   ],
   "source": [
    "part1('inputs/day12.txt')"
   ]
  },
  {
   "cell_type": "code",
   "execution_count": 38,
   "metadata": {},
   "outputs": [],
   "source": [
    "def l_turn2(degree, wx, wy):\n",
    "    match degree:\n",
    "        case 90:\n",
    "            return -wy, wx\n",
    "        case 180:\n",
    "            return -wx, -wy\n",
    "        case 270:\n",
    "            return wy, -wx\n",
    "\n",
    "def r_turn2(degree, wx, wy):\n",
    "    match degree:\n",
    "        case 90:\n",
    "            return wy, -wx\n",
    "        case 180:\n",
    "            return -wx, -wy\n",
    "        case 270:\n",
    "            return -wy, wx\n",
    "\n",
    "def part2(input_file):\n",
    "    actions = parse_input(input_file)\n",
    "    x, y = 0, 0\n",
    "    wx, wy = 10, 1\n",
    "    for action, steps in actions:\n",
    "        match action:\n",
    "            case 'N':\n",
    "                wx, wy = forward(Direction.North, steps, wx, wy)\n",
    "            case 'S':\n",
    "                wx, wy = forward(Direction.South, steps, wx, wy)\n",
    "            case 'E':\n",
    "                wx, wy = forward(Direction.East, steps, wx, wy)\n",
    "            case 'W':\n",
    "                wx, wy = forward(Direction.West, steps, wx, wy)\n",
    "            case 'L':\n",
    "                wx, wy = l_turn2(steps, wx, wy)\n",
    "            case 'R':\n",
    "                wx, wy = r_turn2(steps, wx, wy)\n",
    "            case 'F':\n",
    "                x, y = x + steps * wx, y + steps * wy\n",
    "    return abs(x) + abs(y)"
   ]
  },
  {
   "cell_type": "code",
   "execution_count": 39,
   "metadata": {},
   "outputs": [
    {
     "data": {
      "text/plain": [
       "286"
      ]
     },
     "execution_count": 39,
     "metadata": {},
     "output_type": "execute_result"
    }
   ],
   "source": [
    "part2('inputs/day12_test.txt')"
   ]
  },
  {
   "cell_type": "code",
   "execution_count": 40,
   "metadata": {},
   "outputs": [
    {
     "data": {
      "text/plain": [
       "101860"
      ]
     },
     "execution_count": 40,
     "metadata": {},
     "output_type": "execute_result"
    }
   ],
   "source": [
    "part2('inputs/day12.txt')"
   ]
  },
  {
   "cell_type": "code",
   "execution_count": null,
   "metadata": {},
   "outputs": [],
   "source": []
  }
 ],
 "metadata": {
  "kernelspec": {
   "display_name": "Test",
   "language": "python",
   "name": "python3"
  },
  "language_info": {
   "codemirror_mode": {
    "name": "ipython",
    "version": 3
   },
   "file_extension": ".py",
   "mimetype": "text/x-python",
   "name": "python",
   "nbconvert_exporter": "python",
   "pygments_lexer": "ipython3",
   "version": "3.12.2"
  }
 },
 "nbformat": 4,
 "nbformat_minor": 2
}
