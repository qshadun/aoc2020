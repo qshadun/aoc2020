{
 "cells": [
  {
   "cell_type": "code",
   "execution_count": 28,
   "metadata": {},
   "outputs": [],
   "source": [
    "from utils import read_lines\n",
    "from collections import deque, defaultdict\n",
    "\n",
    "def parse_input(input_file):\n",
    "    lines = read_lines(input_file)\n",
    "    ans = {}\n",
    "    for line in lines:\n",
    "        parts = line.split(' ')\n",
    "        k = parts[0] + ' ' + parts[1]\n",
    "        v = {}\n",
    "        if parts[-3] != 'no':\n",
    "            for i in range(4, len(parts), 4):\n",
    "                cnt = int(parts[i])\n",
    "                color = parts[i+1] + ' ' + parts[i+2]\n",
    "                v[color] = cnt\n",
    "        ans[k] = v\n",
    "    return ans\n",
    "\n",
    "def calc_reverse_rules(rules):\n",
    "    ans = defaultdict(set)\n",
    "    for k, v in rules.items():\n",
    "        for kk in v:\n",
    "            ans[kk].add(k)\n",
    "    return ans\n",
    "\n",
    "def part1(input_file):\n",
    "    rules = parse_input(input_file)\n",
    "    reverse_rules = calc_reverse_rules(rules)\n",
    "    look_for = 'shiny gold'\n",
    "    q = deque()\n",
    "    visited =set()\n",
    "    visited.add(look_for)\n",
    "    q.append(look_for)\n",
    "    while q:\n",
    "        c = q.popleft()\n",
    "        for cc in reverse_rules[c]:\n",
    "            if cc not in visited:\n",
    "                visited.add(cc)\n",
    "                q.append(cc)\n",
    "    return len(visited) - 1\n",
    "\n",
    "def part2(input_file):\n",
    "    rules = parse_input(input_file)\n",
    "    bag_cnt = {}\n",
    "\n",
    "    def dfs(color):\n",
    "        if color in bag_cnt:\n",
    "            return bag_cnt[color]\n",
    "       \n",
    "        ans = 1\n",
    "        for c, v in rules[color].items():\n",
    "            ans += dfs(c)  * v \n",
    "        bag_cnt[color] = ans\n",
    "        return bag_cnt[color]\n",
    "    return dfs('shiny gold') - 1"
   ]
  },
  {
   "cell_type": "code",
   "execution_count": 16,
   "metadata": {},
   "outputs": [
    {
     "data": {
      "text/plain": [
       "4"
      ]
     },
     "execution_count": 16,
     "metadata": {},
     "output_type": "execute_result"
    }
   ],
   "source": [
    "part1('inputs/day7_test.txt')"
   ]
  },
  {
   "cell_type": "code",
   "execution_count": 17,
   "metadata": {},
   "outputs": [
    {
     "data": {
      "text/plain": [
       "119"
      ]
     },
     "execution_count": 17,
     "metadata": {},
     "output_type": "execute_result"
    }
   ],
   "source": [
    "part1('inputs/day7.txt')"
   ]
  },
  {
   "cell_type": "code",
   "execution_count": 29,
   "metadata": {},
   "outputs": [
    {
     "data": {
      "text/plain": [
       "32"
      ]
     },
     "execution_count": 29,
     "metadata": {},
     "output_type": "execute_result"
    }
   ],
   "source": [
    "part2('inputs/day7_test.txt')"
   ]
  },
  {
   "cell_type": "code",
   "execution_count": 30,
   "metadata": {},
   "outputs": [
    {
     "data": {
      "text/plain": [
       "126"
      ]
     },
     "execution_count": 30,
     "metadata": {},
     "output_type": "execute_result"
    }
   ],
   "source": [
    "part2('inputs/day7_test2.txt')"
   ]
  },
  {
   "cell_type": "code",
   "execution_count": 31,
   "metadata": {},
   "outputs": [
    {
     "data": {
      "text/plain": [
       "155802"
      ]
     },
     "execution_count": 31,
     "metadata": {},
     "output_type": "execute_result"
    }
   ],
   "source": [
    "part2('inputs/day7.txt')"
   ]
  },
  {
   "cell_type": "code",
   "execution_count": null,
   "metadata": {},
   "outputs": [],
   "source": []
  }
 ],
 "metadata": {
  "kernelspec": {
   "display_name": "Test",
   "language": "python",
   "name": "python3"
  },
  "language_info": {
   "codemirror_mode": {
    "name": "ipython",
    "version": 3
   },
   "file_extension": ".py",
   "mimetype": "text/x-python",
   "name": "python",
   "nbconvert_exporter": "python",
   "pygments_lexer": "ipython3",
   "version": "3.12.2"
  }
 },
 "nbformat": 4,
 "nbformat_minor": 2
}
