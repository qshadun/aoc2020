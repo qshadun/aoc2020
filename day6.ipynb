{
 "cells": [
  {
   "cell_type": "code",
   "execution_count": 6,
   "metadata": {},
   "outputs": [],
   "source": [
    "from utils import read_lines\n",
    "\n",
    "def part1(input_file):\n",
    "    lines = read_lines(input_file)\n",
    "    ans = 0\n",
    "    cur_set = set()\n",
    "    for line in lines:\n",
    "        if not line:\n",
    "            ans += len(cur_set)\n",
    "            cur_set = set()\n",
    "        else:\n",
    "            cur_set.update(set(line))\n",
    "    ans += len(cur_set)\n",
    "    return ans\n",
    "\n",
    "def part2(input_file):\n",
    "    lines = read_lines(input_file)\n",
    "    ans = 0\n",
    "    cur_set = None\n",
    "    for line in lines:\n",
    "        if not line:\n",
    "            ans += len(cur_set)\n",
    "            cur_set = None\n",
    "        else:\n",
    "            if cur_set is None:\n",
    "                cur_set = set(line)\n",
    "            else:\n",
    "                cur_set = cur_set.intersection(set(line))\n",
    "    ans += len(cur_set)\n",
    "    return ans"
   ]
  },
  {
   "cell_type": "code",
   "execution_count": 5,
   "metadata": {},
   "outputs": [
    {
     "data": {
      "text/plain": [
       "6291"
      ]
     },
     "execution_count": 5,
     "metadata": {},
     "output_type": "execute_result"
    }
   ],
   "source": [
    "part1('inputs/day6.txt')"
   ]
  },
  {
   "cell_type": "code",
   "execution_count": 7,
   "metadata": {},
   "outputs": [
    {
     "data": {
      "text/plain": [
       "3052"
      ]
     },
     "execution_count": 7,
     "metadata": {},
     "output_type": "execute_result"
    }
   ],
   "source": [
    "part2('inputs/day6.txt')"
   ]
  },
  {
   "cell_type": "code",
   "execution_count": null,
   "metadata": {},
   "outputs": [],
   "source": []
  }
 ],
 "metadata": {
  "kernelspec": {
   "display_name": "Test",
   "language": "python",
   "name": "python3"
  },
  "language_info": {
   "codemirror_mode": {
    "name": "ipython",
    "version": 3
   },
   "file_extension": ".py",
   "mimetype": "text/x-python",
   "name": "python",
   "nbconvert_exporter": "python",
   "pygments_lexer": "ipython3",
   "version": "3.12.2"
  }
 },
 "nbformat": 4,
 "nbformat_minor": 2
}
